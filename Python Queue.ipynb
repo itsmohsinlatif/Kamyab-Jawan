{
 "cells": [
  {
   "cell_type": "code",
   "execution_count": 1,
   "id": "1f91fc70-36b4-4bdc-8b0b-9c5aa3996d48",
   "metadata": {},
   "outputs": [],
   "source": [
    "class Queue:\n",
    "    \n",
    "    def __init__(self):\n",
    "        '''\n",
    "        Objective: To initialize the number of onjects of queue data type\n",
    "        Input Parameter:\n",
    "        self(implicit Parameter)- Object of type queue\n",
    "        Return : None\n",
    "        '''\n",
    "        self.values = list()\n",
    "        \n",
    "    def enqueue(self, element):\n",
    "        '''\n",
    "        Objective: To insert the element at rear\n",
    "        Input Parameter:\n",
    "            self \n",
    "        '''\n",
    "        self.values.append(element)\n",
    "        \n",
    "    def dequeue(self):\n",
    "        '''\n",
    "        Objective: To initialize the number of onjects of queue data type\n",
    "        Input Parameter:\n",
    "        self(implicit Parameter)- Object of type queue\n",
    "        Return : Front element of Queue      \n",
    "        '''\n",
    "        \n",
    "        if not(self.isEmpty()):\n",
    "            return self.values.pop(0)\n",
    "        \n",
    "    def isEmpty(self):\n",
    "        '''\n",
    "        Objective: To determine whther the queue is empty\n",
    "        Input Parameter:\n",
    "            slef - object type of Queue\n",
    "        Return : True of Queue is empty, vice versa\n",
    "        '''\n",
    "        \n",
    "        return len(self.values) == 0\n",
    "    \n",
    "    def front(slef):\n",
    "        '''\n",
    "        Objective: To return element at the front of queue\n",
    "        Input Parameter:\n",
    "            self - Queue object\n",
    "        Return Value: Front value of queue if queue is not empty else None\n",
    "        '''\n",
    "        \n",
    "        if not(self.isEmpty()):\n",
    "            return self.values(0)\n",
    "        else:\n",
    "            print('Queue is Empty')\n",
    "            return None\n",
    "        \n",
    "        \n",
    "    def size(self):\n",
    "        '''\n",
    "        Objective: To return no. of elements in queue\n",
    "        Input Parameter:\n",
    "            self - Queue object\n",
    "        Return Value: Number of elements in the Queue\n",
    "        '''\n",
    "        \n",
    "        return len(self.values)\n",
    "    \n",
    "    \n",
    "    def __str__(self):\n",
    "        '''\n",
    "        Objective: String representation of Queues elements\n",
    "        Input Parameter:\n",
    "            self - Queue object\n",
    "        Return Value: String\n",
    "        '''\n",
    "        \n",
    "        string = ''\n",
    "        for i in self.values:\n",
    "            stringRepr += str[i] + '\\t'\n",
    "        return stringRepr\n",
    "    \n",
    "    \n",
    "    \n",
    "        \n",
    "        \n",
    "        "
   ]
  },
  {
   "cell_type": "code",
   "execution_count": 15,
   "id": "c269a705-ec5f-47fb-ab0f-9c43a94e0722",
   "metadata": {},
   "outputs": [
    {
     "name": "stdout",
     "output_type": "stream",
     "text": [
      "Choose the Options\n",
      "[1] : Create Queue\n",
      "[2] : Delete Queue\n",
      "[3] : EnQueue\n",
      "[4] : DeQueue\n",
      "[5] : Print Queue Data\n",
      "[6] : Front ELement\n",
      "[5] : No. of elements\n"
     ]
    },
    {
     "name": "stdin",
     "output_type": "stream",
     "text": [
      "Enter the Choice:  1\n"
     ]
    },
    {
     "name": "stdout",
     "output_type": "stream",
     "text": [
      "Queue is Created\n"
     ]
    },
    {
     "name": "stdin",
     "output_type": "stream",
     "text": [
      "Enter [y] if you wish to continue:   y\n"
     ]
    },
    {
     "name": "stdout",
     "output_type": "stream",
     "text": [
      "Choose the Options\n",
      "[1] : Create Queue\n",
      "[2] : Delete Queue\n",
      "[3] : EnQueue\n",
      "[4] : DeQueue\n",
      "[5] : Print Queue Data\n",
      "[6] : Front ELement\n",
      "[5] : No. of elements\n"
     ]
    },
    {
     "name": "stdin",
     "output_type": "stream",
     "text": [
      "Enter the Choice:  3\n",
      "Enter the element to Insert:  23\n",
      "Enter [y] if you wish to continue:   y\n"
     ]
    },
    {
     "name": "stdout",
     "output_type": "stream",
     "text": [
      "Choose the Options\n",
      "[1] : Create Queue\n",
      "[2] : Delete Queue\n",
      "[3] : EnQueue\n",
      "[4] : DeQueue\n",
      "[5] : Print Queue Data\n",
      "[6] : Front ELement\n",
      "[5] : No. of elements\n"
     ]
    },
    {
     "name": "stdin",
     "output_type": "stream",
     "text": [
      "Enter the Choice:  3\n",
      "Enter the element to Insert:  1\n",
      "Enter [y] if you wish to continue:   y\n"
     ]
    },
    {
     "name": "stdout",
     "output_type": "stream",
     "text": [
      "Choose the Options\n",
      "[1] : Create Queue\n",
      "[2] : Delete Queue\n",
      "[3] : EnQueue\n",
      "[4] : DeQueue\n",
      "[5] : Print Queue Data\n",
      "[6] : Front ELement\n",
      "[5] : No. of elements\n"
     ]
    },
    {
     "name": "stdin",
     "output_type": "stream",
     "text": [
      "Enter the Choice:  5\n"
     ]
    },
    {
     "ename": "UnboundLocalError",
     "evalue": "local variable 'stringRepr' referenced before assignment",
     "output_type": "error",
     "traceback": [
      "\u001b[1;31m---------------------------------------------------------------------------\u001b[0m",
      "\u001b[1;31mUnboundLocalError\u001b[0m                         Traceback (most recent call last)",
      "\u001b[1;32m<ipython-input-15-976c93fa8b94>\u001b[0m in \u001b[0;36m<module>\u001b[1;34m\u001b[0m\n\u001b[0;32m     41\u001b[0m \u001b[1;33m\u001b[0m\u001b[0m\n\u001b[0;32m     42\u001b[0m \u001b[1;32mif\u001b[0m \u001b[0m__name__\u001b[0m \u001b[1;33m==\u001b[0m \u001b[1;34m'__main__'\u001b[0m\u001b[1;33m:\u001b[0m\u001b[1;33m\u001b[0m\u001b[1;33m\u001b[0m\u001b[0m\n\u001b[1;32m---> 43\u001b[1;33m     \u001b[0mmain\u001b[0m\u001b[1;33m(\u001b[0m\u001b[1;33m)\u001b[0m\u001b[1;33m\u001b[0m\u001b[1;33m\u001b[0m\u001b[0m\n\u001b[0m\u001b[0;32m     44\u001b[0m \u001b[1;33m\u001b[0m\u001b[0m\n",
      "\u001b[1;32m<ipython-input-15-976c93fa8b94>\u001b[0m in \u001b[0;36mmain\u001b[1;34m()\u001b[0m\n\u001b[0;32m     30\u001b[0m             \u001b[0mprint\u001b[0m\u001b[1;33m(\u001b[0m\u001b[1;34m'Element is deleted: '\u001b[0m\u001b[1;33m,\u001b[0m \u001b[0mqueue\u001b[0m\u001b[1;33m.\u001b[0m\u001b[0mdequeue\u001b[0m\u001b[1;33m(\u001b[0m\u001b[1;33m)\u001b[0m\u001b[1;33m)\u001b[0m\u001b[1;33m\u001b[0m\u001b[1;33m\u001b[0m\u001b[0m\n\u001b[0;32m     31\u001b[0m         \u001b[1;32melif\u001b[0m \u001b[0mchoice\u001b[0m \u001b[1;33m==\u001b[0m \u001b[1;36m5\u001b[0m\u001b[1;33m:\u001b[0m\u001b[1;33m\u001b[0m\u001b[1;33m\u001b[0m\u001b[0m\n\u001b[1;32m---> 32\u001b[1;33m             \u001b[0mprint\u001b[0m\u001b[1;33m(\u001b[0m\u001b[0mqueue\u001b[0m\u001b[1;33m)\u001b[0m\u001b[1;33m\u001b[0m\u001b[1;33m\u001b[0m\u001b[0m\n\u001b[0m\u001b[0;32m     33\u001b[0m         \u001b[1;32melif\u001b[0m \u001b[0mchoice\u001b[0m \u001b[1;33m==\u001b[0m \u001b[1;36m6\u001b[0m\u001b[1;33m:\u001b[0m\u001b[1;33m\u001b[0m\u001b[1;33m\u001b[0m\u001b[0m\n\u001b[0;32m     34\u001b[0m             \u001b[0mprint\u001b[0m\u001b[1;33m(\u001b[0m\u001b[1;34m'Front element : '\u001b[0m\u001b[1;33m,\u001b[0m \u001b[0mqueue\u001b[0m\u001b[1;33m.\u001b[0m\u001b[0mfront\u001b[0m\u001b[1;33m(\u001b[0m\u001b[1;33m)\u001b[0m\u001b[1;33m)\u001b[0m\u001b[1;33m\u001b[0m\u001b[1;33m\u001b[0m\u001b[0m\n",
      "\u001b[1;32m<ipython-input-1-0f28a8f6ec5f>\u001b[0m in \u001b[0;36m__str__\u001b[1;34m(self)\u001b[0m\n\u001b[0;32m     76\u001b[0m         \u001b[1;32mfor\u001b[0m \u001b[0mi\u001b[0m \u001b[1;32min\u001b[0m \u001b[0mself\u001b[0m\u001b[1;33m.\u001b[0m\u001b[0mvalues\u001b[0m\u001b[1;33m:\u001b[0m\u001b[1;33m\u001b[0m\u001b[1;33m\u001b[0m\u001b[0m\n\u001b[0;32m     77\u001b[0m             \u001b[0mstringRepr\u001b[0m \u001b[1;33m+=\u001b[0m \u001b[0mstr\u001b[0m\u001b[1;33m[\u001b[0m\u001b[0mi\u001b[0m\u001b[1;33m]\u001b[0m \u001b[1;33m+\u001b[0m \u001b[1;34m'\\t'\u001b[0m\u001b[1;33m\u001b[0m\u001b[1;33m\u001b[0m\u001b[0m\n\u001b[1;32m---> 78\u001b[1;33m         \u001b[1;32mreturn\u001b[0m \u001b[0mstringRepr\u001b[0m\u001b[1;33m\u001b[0m\u001b[1;33m\u001b[0m\u001b[0m\n\u001b[0m\u001b[0;32m     79\u001b[0m \u001b[1;33m\u001b[0m\u001b[0m\n\u001b[0;32m     80\u001b[0m \u001b[1;33m\u001b[0m\u001b[0m\n",
      "\u001b[1;31mUnboundLocalError\u001b[0m: local variable 'stringRepr' referenced before assignment"
     ]
    }
   ],
   "source": [
    "def main():\n",
    "    '''\n",
    "    Objective: To return no. of elements in queue\n",
    "    Input Parameter:\n",
    "        self - Queue object\n",
    "    Return Value: Number of elements in the Queue\n",
    "    '''\n",
    "    \n",
    "    while 1:\n",
    "        print('Choose the Options')\n",
    "        print('[1] : Create Queue')\n",
    "        print('[2] : Delete Queue')\n",
    "        print('[3] : EnQueue')\n",
    "        print('[4] : DeQueue')\n",
    "        print('[5] : Print Queue Data')\n",
    "        print('[6] : Front ELement')\n",
    "        print('[5] : No. of elements')\n",
    "        \n",
    "        choice = int(input('Enter the Choice: '))\n",
    "        \n",
    "        if choice == 1:\n",
    "            queue = Queue()\n",
    "            print('Queue is Created')\n",
    "        elif choice == 2:\n",
    "            del queue\n",
    "            print('Queue is deleted')\n",
    "        elif choice == 3:\n",
    "            element = int(input(\"Enter the element to Insert: \"))\n",
    "        elif choice == 4:\n",
    "            print('Element is deleted: ', queue.dequeue())\n",
    "        elif choice == 5:\n",
    "            print(queue)\n",
    "        elif choice == 6:\n",
    "            print('Front element : ', queue.front())\n",
    "        elif choice == 7:\n",
    "            print('No. of element : ', queue.size())\n",
    "        processed = input('Enter [y] if you wish to continue:  ')\n",
    "        if processed != 'y' and processed != 'Y':\n",
    "            break\n",
    "            \n",
    "            \n",
    "if __name__ == '__main__':\n",
    "    main()\n",
    "        "
   ]
  },
  {
   "cell_type": "code",
   "execution_count": 10,
   "id": "551b0e3d-16b1-4586-9e01-e41c481eaf2b",
   "metadata": {},
   "outputs": [
    {
     "ename": "ModuleNotFoundError",
     "evalue": "No module named 'Untitled'",
     "output_type": "error",
     "traceback": [
      "\u001b[1;31m---------------------------------------------------------------------------\u001b[0m",
      "\u001b[1;31mModuleNotFoundError\u001b[0m                       Traceback (most recent call last)",
      "\u001b[1;32m<ipython-input-10-a9eed5c05e59>\u001b[0m in \u001b[0;36m<module>\u001b[1;34m\u001b[0m\n\u001b[1;32m----> 1\u001b[1;33m \u001b[1;32mfrom\u001b[0m \u001b[0mUntitled\u001b[0m \u001b[1;32mimport\u001b[0m \u001b[0mQueue\u001b[0m\u001b[1;33m\u001b[0m\u001b[1;33m\u001b[0m\u001b[0m\n\u001b[0m",
      "\u001b[1;31mModuleNotFoundError\u001b[0m: No module named 'Untitled'"
     ]
    }
   ],
   "source": []
  },
  {
   "cell_type": "code",
   "execution_count": null,
   "id": "be7c2271-4a1c-4dfb-badc-3ec61003c0f4",
   "metadata": {},
   "outputs": [],
   "source": []
  }
 ],
 "metadata": {
  "kernelspec": {
   "display_name": "Python 3",
   "language": "python",
   "name": "python3"
  },
  "language_info": {
   "codemirror_mode": {
    "name": "ipython",
    "version": 3
   },
   "file_extension": ".py",
   "mimetype": "text/x-python",
   "name": "python",
   "nbconvert_exporter": "python",
   "pygments_lexer": "ipython3",
   "version": "3.8.8"
  }
 },
 "nbformat": 4,
 "nbformat_minor": 5
}
