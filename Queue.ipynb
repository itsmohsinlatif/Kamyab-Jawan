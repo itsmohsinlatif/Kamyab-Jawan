{
 "cells": [
  {
   "cell_type": "code",
   "execution_count": 3,
   "id": "3d86154a-4423-42f6-a474-8497f48f316a",
   "metadata": {},
   "outputs": [],
   "source": [
    "#Program to implement the queue in harcoded form usning array from Numpy.\n",
    "import numpy as np\n",
    "queue = np.zeros(11)"
   ]
  },
  {
   "cell_type": "code",
   "execution_count": 4,
   "id": "5ce3a342-dc34-4ee6-a80d-eb1fd1ef277c",
   "metadata": {},
   "outputs": [
    {
     "name": "stdout",
     "output_type": "stream",
     "text": [
      "Queue is empty\n"
     ]
    }
   ],
   "source": [
    "index = 0\n",
    "def enqueue(num):\n",
    "    #index = 0\n",
    "    global index\n",
    "    if index == 10:\n",
    "        print('Queue is full')\n",
    "        \n",
    "    else:\n",
    "        queue[index] = num\n",
    "        index = index + 1\n",
    "\n",
    "        \n",
    "def dequeue():\n",
    "    #index = 0\n",
    "    global index\n",
    "    if index == 0:\n",
    "        print('Queue is empty')\n",
    "        return\n",
    "    else:\n",
    "        ret = -1\n",
    "        ret = queue[0]\n",
    "        for i in range(0, index):\n",
    "            queue[i] = queue[i + 1]\n",
    "        index -= 1\n",
    "    return ret\n",
    "\n",
    "def main():\n",
    "    #index = 0\n",
    "    enqueue(1)\n",
    "    enqueue(3)\n",
    "    dequeue()\n",
    "    enqueue(12)\n",
    "    enqueue(22)\n",
    "    enqueue(12)\n",
    "    enqueue(22)\n",
    "    enqueue(12)\n",
    "    enqueue(22)\n",
    "    enqueue(12)\n",
    "    enqueue(22)\n",
    "    enqueue(12)\n",
    "    dequeue()\n",
    "    dequeue()\n",
    "    dequeue()\n",
    "    dequeue()\n",
    "    dequeue()\n",
    "    dequeue()\n",
    "    dequeue()\n",
    "    dequeue()\n",
    "    dequeue()\n",
    "    dequeue()\n",
    "    dequeue()\n",
    "    \n",
    "    \n",
    "    \n",
    "if __name__ == '__main__':\n",
    "    main()\n",
    "    \n",
    "    "
   ]
  },
  {
   "cell_type": "code",
   "execution_count": null,
   "id": "50d24c44-32cc-42af-9d94-e304c56267df",
   "metadata": {},
   "outputs": [],
   "source": []
  }
 ],
 "metadata": {
  "kernelspec": {
   "display_name": "Python 3",
   "language": "python",
   "name": "python3"
  },
  "language_info": {
   "codemirror_mode": {
    "name": "ipython",
    "version": 3
   },
   "file_extension": ".py",
   "mimetype": "text/x-python",
   "name": "python",
   "nbconvert_exporter": "python",
   "pygments_lexer": "ipython3",
   "version": "3.8.8"
  }
 },
 "nbformat": 4,
 "nbformat_minor": 5
}
