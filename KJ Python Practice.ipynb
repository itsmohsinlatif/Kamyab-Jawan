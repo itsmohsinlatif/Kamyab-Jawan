{
 "cells": [
  {
   "cell_type": "code",
   "execution_count": 21,
   "id": "9e9359a8-69c7-45f1-ba8d-0be2d37cc4e9",
   "metadata": {},
   "outputs": [
    {
     "name": "stdout",
     "output_type": "stream",
     "text": [
      "          *          \n",
      "        *        \n",
      "      *      \n",
      "    *    \n",
      "  *  \n",
      "*\n",
      "  *  \n",
      "*\n",
      "  *  \n",
      "*\n",
      "  *  \n",
      "*\n",
      "  *  \n",
      "*\n",
      "  *  \n",
      "*\n"
     ]
    }
   ],
   "source": [
    "def star():\n",
    "    '''\n",
    "    Purpose : To draw a shape\n",
    "    Input: None\n",
    "    Output: None\n",
    "    '''\n",
    "    num = 10\n",
    "    for i in range(10):\n",
    "        print( ' ' * num + '*' + ' ' * num)\n",
    "        num -= 2\n",
    "        if(num == 0):\n",
    "            print(' ' * num + '*' + ' ' * num)\n",
    "            num += 2\n",
    "\n",
    "\n",
    "        \n",
    "def main():\n",
    "    '''\n",
    "    Purpose : To draw a shape\n",
    "    Input: None\n",
    "    Output: None\n",
    "    '''\n",
    "    star()   \n",
    "    \n",
    "\n",
    "if __name__ =='__main__':\n",
    "    main()"
   ]
  },
  {
   "cell_type": "code",
   "execution_count": 22,
   "id": "b8329e66-3fa5-4f1b-aa49-67f4b42085a0",
   "metadata": {},
   "outputs": [
    {
     "data": {
      "text/plain": [
       "5.4"
      ]
     },
     "execution_count": 22,
     "metadata": {},
     "output_type": "execute_result"
    }
   ],
   "source": [
    "abs(-5.4)"
   ]
  },
  {
   "cell_type": "code",
   "execution_count": 23,
   "id": "e9c7f2d3-12d9-4ae2-a4d5-bd6c1569906f",
   "metadata": {},
   "outputs": [
    {
     "data": {
      "text/plain": [
       "15"
      ]
     },
     "execution_count": 23,
     "metadata": {},
     "output_type": "execute_result"
    }
   ],
   "source": [
    "abs(15)"
   ]
  },
  {
   "cell_type": "code",
   "execution_count": 24,
   "id": "97551dcb-f472-4e31-bcd4-ebdff0074341",
   "metadata": {},
   "outputs": [
    {
     "data": {
      "text/plain": [
       "'H'"
      ]
     },
     "execution_count": 24,
     "metadata": {},
     "output_type": "execute_result"
    }
   ],
   "source": [
    "chr(72)"
   ]
  },
  {
   "cell_type": "code",
   "execution_count": 26,
   "id": "a8a8bbed-696a-4591-8639-3ddda189b371",
   "metadata": {},
   "outputs": [
    {
     "data": {
      "text/plain": [
       "-29"
      ]
     },
     "execution_count": 26,
     "metadata": {},
     "output_type": "execute_result"
    }
   ],
   "source": [
    "round(-29.4)"
   ]
  },
  {
   "cell_type": "code",
   "execution_count": 27,
   "id": "680ec8bb-7ecf-4069-8718-a1890f8930ae",
   "metadata": {},
   "outputs": [
    {
     "data": {
      "text/plain": [
       "57.0"
      ]
     },
     "execution_count": 27,
     "metadata": {},
     "output_type": "execute_result"
    }
   ],
   "source": [
    "float(57)"
   ]
  },
  {
   "cell_type": "code",
   "execution_count": 28,
   "id": "34584fd4-1bdd-4296-9c1f-dbf648c03d47",
   "metadata": {},
   "outputs": [
    {
     "data": {
      "text/plain": [
       "81"
      ]
     },
     "execution_count": 28,
     "metadata": {},
     "output_type": "execute_result"
    }
   ],
   "source": [
    "pow(9, 2)"
   ]
  },
  {
   "cell_type": "code",
   "execution_count": 29,
   "id": "4e9de752-45ca-47e3-abef-b1480b03a501",
   "metadata": {},
   "outputs": [
    {
     "data": {
      "text/plain": [
       "44"
      ]
     },
     "execution_count": 29,
     "metadata": {},
     "output_type": "execute_result"
    }
   ],
   "source": [
    "max(23, 24, 44, 5)"
   ]
  },
  {
   "cell_type": "code",
   "execution_count": 31,
   "id": "83f85348-cd8a-4730-92f0-0e3169b8cc47",
   "metadata": {},
   "outputs": [
    {
     "data": {
      "text/plain": [
       "5"
      ]
     },
     "execution_count": 31,
     "metadata": {},
     "output_type": "execute_result"
    }
   ],
   "source": [
    "min(23, 24, 44, 5)"
   ]
  },
  {
   "cell_type": "code",
   "execution_count": 32,
   "id": "1fbfb543-6139-4c6f-b984-0f88c41bdd5d",
   "metadata": {},
   "outputs": [
    {
     "data": {
      "text/plain": [
       "'b'"
      ]
     },
     "execution_count": 32,
     "metadata": {},
     "output_type": "execute_result"
    }
   ],
   "source": [
    "max('a', 'b', 'ab')"
   ]
  },
  {
   "cell_type": "code",
   "execution_count": 39,
   "id": "d5729e7e-a191-4beb-84d5-86d2f5843be5",
   "metadata": {},
   "outputs": [
    {
     "name": "stdout",
     "output_type": "stream",
     "text": [
      "1\n",
      "1\n",
      "1\n",
      "1\n",
      "1\n",
      "1\n",
      "1\n",
      "1\n",
      "1\n",
      "1\n"
     ]
    }
   ],
   "source": [
    "def nMultiples(a= 0, num= 1):\n",
    "    '''\n",
    "    Objective: To show table\n",
    "    Input Parameter: a - int\n",
    "                    num - int\n",
    "    Return Value: a * num - int\n",
    "    '''\n",
    "    return a * num\n",
    "\n",
    "def main():\n",
    "    for i in range(10):\n",
    "        a, num = 0, 1\n",
    "        print(nMultiples(a= a - 1, num= a - 1))\n",
    "    \n",
    "    \n",
    "if __name__ == '__main__':\n",
    "    main()\n",
    "    "
   ]
  },
  {
   "cell_type": "code",
   "execution_count": 44,
   "id": "4d59a802-d27d-4030-b9dc-8dba525382e6",
   "metadata": {},
   "outputs": [
    {
     "name": "stdin",
     "output_type": "stream",
     "text": [
      "Enter the Number:  5\n"
     ]
    },
    {
     "name": "stdout",
     "output_type": "stream",
     "text": [
      "5 *  1 =     5\n",
      "5 *  2 =    10\n",
      "5 *  3 =    15\n",
      "5 *  4 =    20\n",
      "5 *  5 =    25\n",
      "5 *  6 =    30\n",
      "5 *  7 =    35\n",
      "5 *  8 =    40\n",
      "5 *  9 =    45\n",
      "5 * 10 =    50\n"
     ]
    }
   ],
   "source": [
    "def table(num, nMultiples = 10):\n",
    "    '''\n",
    "    Input Parameter: \n",
    "        num : int - value whise table to print\n",
    "        nMultiples : numeric - number of multiples to print\n",
    "    Output: Multiplication table of number\n",
    "    Return Value: None\n",
    "    '''\n",
    "    \n",
    "    for multiple in range(1, nMultiples + 1):\n",
    "        product = num * multiple\n",
    "        print(num, '*', '%2d' % multiple, '=', '%5d' % product)\n",
    "        \n",
    "        \n",
    "def main():\n",
    "    '''\n",
    "    Objective: To Print table\n",
    "    Input Parameter: None\n",
    "    Output Value: None \n",
    "    '''\n",
    "    \n",
    "    num = int(input('Enter the Number: '))\n",
    "    table(num)\n",
    "    \n",
    "if __name__ == '__main__':\n",
    "    main()\n"
   ]
  },
  {
   "cell_type": "code",
   "execution_count": 54,
   "id": "be69db64-e05f-409a-9eae-8d84b75450fb",
   "metadata": {},
   "outputs": [
    {
     "name": "stdin",
     "output_type": "stream",
     "text": [
      "Enter the 1st Float value:  23.4\n",
      "Enter the 2nd Float value:  23.7\n",
      "Enter the 3rd Float value:  6.4\n"
     ]
    },
    {
     "name": "stdout",
     "output_type": "stream",
     "text": [
      "Sum of Numbers is:  53.49999999999999\n"
     ]
    }
   ],
   "source": [
    "def SumofNumbers(n1, n2, n3):\n",
    "    '''\n",
    "    Objective: To sum the three float numbers\n",
    "    Input Parameter:\n",
    "        n1 - float value\n",
    "        n2 - float value\n",
    "        n3 - float value\n",
    "    Output Parameter: None\n",
    "    Return Value: sum - flaot value\n",
    "        \n",
    "        \n",
    "    '''\n",
    "    sum = n1 + n2 + n3\n",
    "    return sum\n",
    "\n",
    "\n",
    "def main():\n",
    "    '''\n",
    "    Objective: To print the Sum of float values\n",
    "    Input Parameter:\n",
    "        n1 - float value\n",
    "        n2 - float value\n",
    "        n2 - float value\n",
    "        \n",
    "    '''\n",
    "    \n",
    "    n1 = float(input('Enter the 1st Float value: '))\n",
    "    n2 = float(input('Enter the 2nd Float value: '))\n",
    "    n3 = float(input('Enter the 3rd Float value: '))\n",
    "    \n",
    "    print('Sum of Numbers is: ', SumofNumbers(n1, n2, n3))\n",
    "    \n",
    "\n",
    "if __name__ == '__main__':\n",
    "    main()"
   ]
  },
  {
   "cell_type": "code",
   "execution_count": 56,
   "id": "65e6754a-1d7c-4b56-a9eb-febb49c9b0a3",
   "metadata": {},
   "outputs": [
    {
     "name": "stdin",
     "output_type": "stream",
     "text": [
      "Enter the 1st int value:  3\n",
      "Enter the 2nd int value:  5\n",
      "Enter the 3rd int value:  7\n"
     ]
    },
    {
     "name": "stdout",
     "output_type": "stream",
     "text": [
      "Sum of Numbers is:  15\n"
     ]
    }
   ],
   "source": [
    "def SumofNumbers(n1, n2, n3):\n",
    "    '''\n",
    "    Objective: To sum the three float numbers\n",
    "    Input Parameter:\n",
    "        n1 - int value\n",
    "        n2 - int value\n",
    "        n3 - int value\n",
    "    Output Parameter: None\n",
    "    Return Value: sum - int value\n",
    "        \n",
    "        \n",
    "    '''\n",
    "    sum = n1 + n2 + n3\n",
    "    return sum\n",
    "\n",
    "\n",
    "def main():\n",
    "    '''\n",
    "    Objective: To print the Sum of float values\n",
    "    Input Parameter:\n",
    "        n1 - int value\n",
    "        n2 - int value\n",
    "        n2 - int value\n",
    "        \n",
    "    '''\n",
    "    \n",
    "    n1 = int(input('Enter the 1st int value: '))\n",
    "    n2 = int(input('Enter the 2nd int value: '))\n",
    "    n3 = int(input('Enter the 3rd int value: '))\n",
    "    \n",
    "    print('Sum of Numbers is: ', SumofNumbers(n1, n2, n3))\n",
    "    \n",
    "\n",
    "if __name__ == '__main__':\n",
    "    main()"
   ]
  },
  {
   "cell_type": "code",
   "execution_count": 67,
   "id": "3335362f-21a0-44df-b75b-b6b5fc24271b",
   "metadata": {},
   "outputs": [
    {
     "name": "stdin",
     "output_type": "stream",
     "text": [
      "Enter the base of power:  2\n",
      "Enter the exponent of power:  3\n"
     ]
    },
    {
     "name": "stdout",
     "output_type": "stream",
     "text": [
      "The power of 2 and 3 is:  8\n"
     ]
    }
   ],
   "source": [
    "def printpower(n1, n2):\n",
    "    '''\n",
    "    Objective: To calculate Power\n",
    "    Input Parameter:\n",
    "        n1 : numeric - value of base\n",
    "        n2 - Numeric Value of power\n",
    "    Output Parameter: None\n",
    "    Retun Value: power\n",
    "    '''\n",
    "    power = n1 ** n2\n",
    "    return power\n",
    "\n",
    "def main():\n",
    "    '''\n",
    "    Objective: To Print Power\n",
    "    Input Parameter:\n",
    "        n1 : numeric - value of base\n",
    "        n2 - Numeric Value of power\n",
    "    Output Parameter: power - flaot value\n",
    "    Retun Value: power\n",
    "    '''\n",
    "    \n",
    "    n1 = int(input('Enter the base of power: '))\n",
    "    n2 = int(input('Enter the exponent of power: '))\n",
    "    \n",
    "    print(\"The power of \" + str(n1) + ' and ' + str(n2) + ' is: ',printpower(n1, n2))\n",
    "    \n",
    "    \n",
    "if __name__ == '__main__':\n",
    "    main()"
   ]
  },
  {
   "cell_type": "code",
   "execution_count": 68,
   "id": "5ecf5d55-c02d-4917-8fb3-308d336c8faf",
   "metadata": {},
   "outputs": [
    {
     "name": "stdin",
     "output_type": "stream",
     "text": [
      "Enter the base of power:  6\n",
      "Enter the exponent of power:  3\n"
     ]
    },
    {
     "name": "stdout",
     "output_type": "stream",
     "text": [
      "The power of 6 and 3 is:  2.0\n"
     ]
    }
   ],
   "source": [
    "def printSqureroot(n1, n2):\n",
    "    '''\n",
    "    Objective: To calculate Power\n",
    "    Input Parameter:\n",
    "        n1 : numeric - value of base\n",
    "        n2 - Numeric Value of power\n",
    "    Output Parameter: None\n",
    "    Retun Value: power\n",
    "    '''\n",
    "    n2 = 1 / n2\n",
    "    sqroot = n1 * n2\n",
    "    return sqroot\n",
    "\n",
    "def main():\n",
    "    '''\n",
    "    Objective: To Print Power\n",
    "    Input Parameter:\n",
    "        n1 : numeric - value of base\n",
    "        n2 - Numeric Value of power\n",
    "    Output Parameter: power - flaot value\n",
    "    Retun Value: power\n",
    "    '''\n",
    "    \n",
    "    n1 = int(input('Enter the base of power: '))\n",
    "    n2 = int(input('Enter the exponent of power: '))\n",
    "    \n",
    "    print(\"The power of \" + str(n1) + ' and ' + str(n2) + ' is: ',printSqureroot(n1, n2))\n",
    "    \n",
    "    \n",
    "if __name__ == '__main__':\n",
    "    main()"
   ]
  },
  {
   "cell_type": "code",
   "execution_count": 74,
   "id": "f40fa519-08ea-4530-87e6-806b572f6465",
   "metadata": {},
   "outputs": [
    {
     "name": "stdin",
     "output_type": "stream",
     "text": [
      "Enter the temperature in Celcius:  37.5\n"
     ]
    },
    {
     "name": "stdout",
     "output_type": "stream",
     "text": [
      "The temperature conversion from 37.5 Fernheit is:  99.5\n"
     ]
    }
   ],
   "source": [
    "def c2f(n1):\n",
    "    '''\n",
    "    Objective: To convert from celcius to fernheit\n",
    "    Input Parameter:\n",
    "        n1 : float - value of temp. in celcius\n",
    "    Output Parameter: None\n",
    "    Retun Value: fernheit\n",
    "    '''\n",
    "    fernheit = (n1 * (9 / 5)) + 32\n",
    "    return fernheit\n",
    "\n",
    "def main():\n",
    "    '''\n",
    "    Objective: To Print temperature conversion\n",
    "    Input Parameter:None\n",
    "    Output Parameter: fernheit - flaot value\n",
    "    Retun Value: power\n",
    "    '''\n",
    "    \n",
    "    n1 = float(input('Enter the temperature in Celcius: '))\n",
    "\n",
    "    \n",
    "    print(\"The temperature conversion from \" + str(n1) + ' Fernheit is: ', c2f(n1))\n",
    "    \n",
    "    \n",
    "if __name__ == '__main__':\n",
    "    main()"
   ]
  },
  {
   "cell_type": "code",
   "execution_count": 1,
   "id": "f2abee79-2fa7-42c9-a79c-6b06cf227c84",
   "metadata": {},
   "outputs": [
    {
     "name": "stdin",
     "output_type": "stream",
     "text": [
      "Enter the value of a:  3\n",
      "Enter the value of b:  2\n"
     ]
    },
    {
     "name": "stdout",
     "output_type": "stream",
     "text": [
      "The temperature conversion from 32 Fernheit is:  25\n"
     ]
    }
   ],
   "source": [
    "def squreformula(n1, n2):\n",
    "    '''\n",
    "    Objective: To calculate the (a+b)2\n",
    "    Input Parameter:\n",
    "        n1 : float - value of temp. in celcius\n",
    "    Output Parameter: None\n",
    "    Retun Value: fernheit\n",
    "    '''\n",
    "    ans = ((n1) ** 2) + ((n2) ** 2) + (2 * n1 * n2)\n",
    "    return ans\n",
    "\n",
    "def main():\n",
    "    '''\n",
    "    Objective: To Print temperature conversion\n",
    "    Input Parameter:None\n",
    "    Output Parameter: fernheit - flaot value\n",
    "    Retun Value: power\n",
    "    '''\n",
    "    \n",
    "    n1 = int(input('Enter the value of a: '))\n",
    "    n2 = int(input('Enter the value of b: '))\n",
    "\n",
    "    \n",
    "    print(\"The temperature conversion from \" + str(n1) + str(n2) + ' Fernheit is: ', squreformula(n1, n2))\n",
    "    \n",
    "    \n",
    "if __name__ == '__main__':\n",
    "    main()"
   ]
  },
  {
   "cell_type": "code",
   "execution_count": 33,
   "id": "979b5c53-a97c-40ca-b452-0f3298e00395",
   "metadata": {},
   "outputs": [
    {
     "name": "stdin",
     "output_type": "stream",
     "text": [
      "Enter the 1 for Right Triangle.\n",
      " Enter 2 for Inverted trianlgle 2\n",
      "Enter no. of Rows:  12\n"
     ]
    },
    {
     "name": "stdout",
     "output_type": "stream",
     "text": [
      "**********************\n",
      " ********************\n",
      "  ******************\n",
      "   ****************\n",
      "    **************\n",
      "     ************\n",
      "      **********\n",
      "       ********\n",
      "        ******\n",
      "         ****\n",
      "          **\n",
      "           \n"
     ]
    }
   ],
   "source": [
    "def rightTriangle(nRows):\n",
    "    \"\"\"\n",
    "    Objective: To print the Right Triangle\n",
    "    Input Parameter:\n",
    "        nRows: numeric value - No.of rows\n",
    "        \n",
    "    Rturn:None\n",
    "    \"\"\"\n",
    "    \n",
    "    for i in range(1, nRows):\n",
    "        print('*' * i)\n",
    "        \n",
    "def invertedTriangle(nRows):\n",
    "    \"\"\"\n",
    "    Objective: To print the inverted Triangle\n",
    "    Input Parameter:\n",
    "        nRows: numeric value - No.of rows\n",
    "        \n",
    "    Rturn:None\n",
    "    \"\"\"\n",
    "    nSpaces = 0\n",
    "    nStars = 2 * (nRows - 1)\n",
    "    for i in range(1, nRows + 1):\n",
    "        print(' ' * nSpaces + '*' * nStars)\n",
    "        nStars -= 2\n",
    "        nSpaces += 1\n",
    "        \n",
    "        \n",
    "def main():\n",
    "    choice = int(input('Enter the 1 for Right Triangle.\\n Enter 2 for Inverted trianlgle'))\n",
    "    assert choice == 1 or choice == 2\n",
    "    nRows = int(input(\"Enter no. of Rows: \"))\n",
    "    \n",
    "    if choice == 1:\n",
    "        rightTriangle(nRows)\n",
    "    else:\n",
    "        invertedTriangle(nRows)\n",
    "        \n",
    "if __name__ == '__main__':\n",
    "    main()\n",
    "    \n",
    "\n",
    "        "
   ]
  },
  {
   "cell_type": "code",
   "execution_count": 10,
   "id": "eeb50545-8b8b-4b6f-a13b-bcb58c913a9c",
   "metadata": {},
   "outputs": [
    {
     "name": "stdin",
     "output_type": "stream",
     "text": [
      "Enter the temperature in Celcius:  45.8\n"
     ]
    },
    {
     "name": "stdout",
     "output_type": "stream",
     "text": [
      "Water is start gaining temp\n"
     ]
    }
   ],
   "source": [
    "def tellTemperature(temp):\n",
    "    '''\n",
    "    Objective: Show message whether water is boiling or not.\n",
    "    Input parameter:\n",
    "        temp: float value - temperature in celcius\n",
    "    Output: State of water\n",
    "    Return : None\n",
    "    '''\n",
    "    \n",
    "    if temp >= 100:\n",
    "        print('Water is Boiling')\n",
    "    elif temp >= 90:\n",
    "        print('Water is about to boil.')\n",
    "    elif temp >= 50:\n",
    "        print('Water is moderate hot')\n",
    "        \n",
    "    elif temp >= 0:\n",
    "        print('Water is start gaining temp')\n",
    "    elif temp < 0:\n",
    "        print('Water is less than 0 degree')\n",
    "\n",
    "        \n",
    "        \n",
    "def main():\n",
    "    \n",
    "    temp = float(input('Enter the temperature in Celcius: '))\n",
    "    \n",
    "    tellTemperature(temp)\n",
    "    \n",
    "if __name__ == '__main__':\n",
    "    main()"
   ]
  },
  {
   "cell_type": "code",
   "execution_count": null,
   "id": "ff7946dd-471b-4d90-89af-5dbae776f77e",
   "metadata": {},
   "outputs": [],
   "source": [
    "def addition(value1, value2):\n",
    "    '''\n",
    "    Objective: For sum\n",
    "    Input parameter:\n",
    "        value1: numeric value - value to sum\n",
    "        value2: numeric value - value to sum\n",
    "    Output: None\n",
    "    Return : sum\n",
    "    '''\n",
    "    return value1 + value2\n",
    "\n",
    "def multiplication(value1, value2):\n",
    "    '''\n",
    "    Objective: For multiplicTION\n",
    "    Input parameter:\n",
    "        value1: numeric value - value to multiply\n",
    "        value2: numeric value - value to multiply\n",
    "    Output: None\n",
    "    Return : Multiplication\n",
    "    '''\n",
    "    return value1 * value2\n",
    "\n",
    "def subtraction(value1, value2):\n",
    "    '''\n",
    "    Objective: For Subtraction\n",
    "    Input parameter:\n",
    "        value1: numeric value - value to subtract\n",
    "        value2: numeric value - value to subtract\n",
    "    Output: None\n",
    "    Return : subtract\n",
    "    '''\n",
    "    return value1 - value2\n",
    "\n",
    "def division(value1, value2):\n",
    "    '''\n",
    "    Objective: For division\n",
    "    Input parameter:\n",
    "        value1: numeric value - value to divide\n",
    "        value2: numeric value - value to divide\n",
    "    Output: None\n",
    "    Return : dividion\n",
    "    '''\n",
    "    return value1 / value2\n",
    "\n",
    "\n",
    "def menu():\n",
    "                \n",
    "    value1 = float(input(\"Enter the Value1: \"))\n",
    "    value2 = float(input(\"Enter the Value2: \"))\n",
    "    \n",
    "    if selection == '1':\n",
    "        print(subtraction(value1,value2))\n",
    "    elif selection == '2':\n",
    "        print(multiplication(value1,value2))\n",
    "    elif selection == '3':\n",
    "        print(addition(value1, value2))\n",
    "    elif selection == '4':\n",
    "        print(division(value1, value2))\n",
    "        \n",
    "\n",
    "def main():\n",
    "    menu()\n",
    "    \n",
    "    \n",
    "if __name__ == '__main__':\n",
    "    main()\n",
    "    \n",
    "    \n"
   ]
  },
  {
   "cell_type": "code",
   "execution_count": 47,
   "id": "813a39d7-4721-486b-b2bd-b87cf791df86",
   "metadata": {},
   "outputs": [
    {
     "name": "stdin",
     "output_type": "stream",
     "text": [
      "Enter the number:  8128\n"
     ]
    },
    {
     "name": "stdout",
     "output_type": "stream",
     "text": [
      "True\n"
     ]
    }
   ],
   "source": [
    "def perfectNumber(num):\n",
    "    '''\n",
    "    Objective: To calculate wheteher it number is perfect of not.\n",
    "    Input Parameter: \n",
    "        num: numeric - number to calculate the perfect status\n",
    "    Output Paramter: None\n",
    "    Return Boolean True/False\n",
    "    '''\n",
    "    dividers = []\n",
    "    sums = 0\n",
    "    for i in range(1, num):\n",
    "        if num % i == 0:\n",
    "            dividers.append(i)\n",
    "    \n",
    "    for j in dividers:\n",
    "        sums += j\n",
    "        \n",
    "    if num == sums:\n",
    "        return True\n",
    "    else:\n",
    "        False\n",
    "        \n",
    "        \n",
    "def main():\n",
    "    \n",
    "    num = int(input(\"Enter the number: \"))\n",
    "    print(perfectNumber(num))\n",
    "    \n",
    "if __name__ == '__main__':\n",
    "    main()\n",
    "    \n",
    "        "
   ]
  },
  {
   "cell_type": "code",
   "execution_count": null,
   "id": "89c6c1ae-1e44-4e2f-8d9d-b9b62155aa99",
   "metadata": {},
   "outputs": [],
   "source": []
  },
  {
   "cell_type": "code",
   "execution_count": 52,
   "id": "f94db127-14d0-4baa-818b-b7b84a70e1cd",
   "metadata": {},
   "outputs": [
    {
     "name": "stdin",
     "output_type": "stream",
     "text": [
      "Enter the 1 number:  45\n",
      "Enter the 2 number:  34\n"
     ]
    },
    {
     "name": "stdout",
     "output_type": "stream",
     "text": [
      "The lcm of given numbers is:  86\n"
     ]
    }
   ],
   "source": [
    "# This function has some issues\n",
    "def lcm(value1, value2):\n",
    "    '''\n",
    "    Objective: To calculate the lcm\n",
    "    Input Parameter:\n",
    "        value1 - numeric value for lcm\n",
    "        value2 - numeric value for lcm\n",
    "    '''\n",
    "    dividers = []\n",
    "    lcm = 0\n",
    "    for i in range(1, max(value1, value2)):\n",
    "        if ((value1 % i == 0) or (value2 % i == 0)):\n",
    "            dividers.append(i)\n",
    "            \n",
    "    for j in dividers:\n",
    "        lcm += j\n",
    "    return lcm\n",
    "        \n",
    "def main():\n",
    "    \n",
    "    value1 = int(input(\"Enter the 1 number: \"))\n",
    "    value2 = int(input(\"Enter the 2 number: \"))\n",
    "    print(\"The lcm of given numbers is: \", lcm(value1, value2))\n",
    "    \n",
    "    \n",
    "if __name__ == '__main__':\n",
    "    main()"
   ]
  },
  {
   "cell_type": "code",
   "execution_count": 57,
   "id": "293ab3cd-7977-4506-bb3c-3c6561cde4bc",
   "metadata": {},
   "outputs": [
    {
     "name": "stdin",
     "output_type": "stream",
     "text": [
      "Enter the 1st number:  456\n",
      "Enter the 2nd number:  34\n"
     ]
    },
    {
     "name": "stdout",
     "output_type": "stream",
     "text": [
      "LCM is:  7752\n"
     ]
    }
   ],
   "source": [
    "  def computeLCM(value1, value2):\n",
    "    '''\n",
    "    Objective: To calculate the lcm\n",
    "    Input Parameter:\n",
    "        value1 - numeric value for lcm\n",
    "        value2 - numeric value for lcm\n",
    "    '''\n",
    "    if value1 > value2:\n",
    "        greater = value1\n",
    "    else:\n",
    "        greater = value2\n",
    "    while(True):\n",
    "        if(greater % value1 == 0) and (greater % value2 == 0):\n",
    "            lcm = greater\n",
    "            break\n",
    "        greater += 1\n",
    "    return lcm\n",
    "\n",
    "def main():\n",
    "    \n",
    "    value1 = int(input(\"Enter the 1st number: \"))\n",
    "    value2 = int(input(\"Enter the 2nd number: \"))\n",
    "    \n",
    "    print(\"LCM is: \", computeLCM(value1, value2))\n",
    "    \n",
    "    \n",
    "if __name__ == '__main__':\n",
    "    main()\n",
    "    "
   ]
  },
  {
   "cell_type": "code",
   "execution_count": 61,
   "id": "b6792d25-16dc-4b2e-a5dd-eab81780f6c7",
   "metadata": {},
   "outputs": [
    {
     "name": "stdin",
     "output_type": "stream",
     "text": [
      "Enter the amount of chocolates to buy:  15\n"
     ]
    },
    {
     "name": "stdout",
     "output_type": "stream",
     "text": [
      "There is 150.0 discount on your buyed chocolates.\n",
      " So, you have to pay :  1350.0\n",
      "Total amount without discount:  1500\n"
     ]
    }
   ],
   "source": [
    "\n",
    "def computediscount(saleamount):\n",
    "    '''\n",
    "    Objective: To calculate discount\n",
    "    Input Parameter:\n",
    "        salesamount - total amount of sale\n",
    "    '''\n",
    "    \n",
    "    discount = 10\n",
    "    \n",
    "    discount = (10 / 100) * saleamount\n",
    "    \n",
    "    return discount\n",
    "\n",
    "def main():\n",
    "    \n",
    "    unitprice = 100\n",
    "    chocolates = int(input(\"Enter the amount of chocolates to buy: \"))\n",
    "    salesprice = chocolates * unitprice\n",
    "    \n",
    "    if salesprice >= 1000:\n",
    "        discount = computediscount(salesprice)\n",
    "    else:\n",
    "        discount = 0\n",
    "        \n",
    "    payableprice = salesprice - discount\n",
    "    \n",
    "    print(\"There is \" + str(discount) + ' discount on your buyed chocolates.\\n So, you have to pay : ', payableprice )\n",
    "    print(\"Total amount without discount: \", salesprice)\n",
    "    \n",
    "if __name__ == '__main__':\n",
    "    main()\n",
    "        \n",
    "    \n",
    "    "
   ]
  },
  {
   "cell_type": "code",
   "execution_count": 2,
   "id": "77f42308-7cf9-4928-a8a8-851778c872c5",
   "metadata": {},
   "outputs": [
    {
     "name": "stdin",
     "output_type": "stream",
     "text": [
      "Enter the age of 1st Person:  23\n",
      "Enter the age of 2nd Person:  56\n",
      "Enter the age of 3rd Person:  78\n"
     ]
    },
    {
     "name": "stdout",
     "output_type": "stream",
     "text": [
      "Greatest 78\n",
      "Lowest 23\n"
     ]
    }
   ],
   "source": [
    "def FindMaxMin(n1, n2, n3):\n",
    "    '''\n",
    "    Objective: To Find max and min\n",
    "    Input Parameter:\n",
    "        n1 - numeric value\n",
    "        n2 - numeric value\n",
    "        n3 - numeric value\n",
    "    Return: maxAge, minAge\n",
    "    '''\n",
    "    if n1 > n2 and n2 > n3:\n",
    "        greatest = n1\n",
    "    elif n2 > n1 and n2 > n3:\n",
    "        greatest = n2\n",
    "    else:\n",
    "        greatest = n3\n",
    "        \n",
    "    if n1< n2 and n1 < n3:\n",
    "        lowest = n1\n",
    "    elif n2 < n1 and n2 < n3:\n",
    "        lowest = n2\n",
    "    else:\n",
    "        lowest = n3\n",
    "        \n",
    "    return greatest, lowest\n",
    "\n",
    "def main():\n",
    "    \n",
    "    n1 = int(input(\"Enter the age of 1st Person: \"))\n",
    "    n2 = int(input(\"Enter the age of 2nd Person: \"))\n",
    "    n3 = int(input(\"Enter the age of 3rd Person: \"))\n",
    "    \n",
    "    greatest, lowest = FindMaxMin(n1, n2, n3)\n",
    "    \n",
    "    print(\"Greatest\", greatest)\n",
    "    print(\"Lowest\", lowest)\n",
    "    \n",
    "    \n",
    "if __name__ == '__main__':\n",
    "    main()\n",
    "    "
   ]
  },
  {
   "cell_type": "code",
   "execution_count": 16,
   "id": "33c55d62-de1d-4d3b-8a86-d5e4548151ee",
   "metadata": {},
   "outputs": [
    {
     "name": "stdin",
     "output_type": "stream",
     "text": [
      "Enter the Number:  6\n"
     ]
    },
    {
     "name": "stdout",
     "output_type": "stream",
     "text": [
      "Factorial is:  720\n"
     ]
    }
   ],
   "source": [
    "def factorial(num):\n",
    "    '''\n",
    "    Objective: To Find factorial of given number\n",
    "    Input Parameter:\n",
    "        num - numeric value\n",
    "    Return: fact\n",
    "    '''\n",
    "    fact = 1\n",
    "    for i in range(num, 0, -1):\n",
    "        fact = fact * i\n",
    "        \n",
    "    return fact\n",
    "    \n",
    "    \n",
    "def main():\n",
    "    \n",
    "    num = int(input(\"Enter the Number: \"))\n",
    "    print(\"Factorial is: \", factorial(num))\n",
    "    \n",
    "    \n",
    "if __name__ == '__main__':\n",
    "    main() "
   ]
  },
  {
   "cell_type": "code",
   "execution_count": 17,
   "id": "b36a7238-8f82-45d0-ae80-e40ce00745c0",
   "metadata": {},
   "outputs": [
    {
     "name": "stdout",
     "output_type": "stream",
     "text": [
      "195\n"
     ]
    }
   ],
   "source": [
    "#Exercise\n",
    "total = 0\n",
    "count = 20\n",
    "while count > 5:\n",
    "    total += count\n",
    "    count -= 1\n",
    "print(total)\n",
    "\n"
   ]
  },
  {
   "cell_type": "code",
   "execution_count": 26,
   "id": "46793e56-47ed-4a7b-bb81-4b7ff74a02e6",
   "metadata": {},
   "outputs": [
    {
     "name": "stdin",
     "output_type": "stream",
     "text": [
      "Enter the number:  50\n"
     ]
    },
    {
     "name": "stdout",
     "output_type": "stream",
     "text": [
      "0\n",
      "2\n",
      "4\n",
      "6\n",
      "8\n",
      "10\n",
      "12\n",
      "14\n",
      "16\n",
      "18\n",
      "20\n",
      "22\n",
      "24\n",
      "26\n",
      "28\n",
      "30\n",
      "32\n",
      "34\n",
      "36\n",
      "38\n",
      "40\n",
      "42\n",
      "44\n",
      "46\n",
      "48\n"
     ]
    }
   ],
   "source": [
    "even = []  \n",
    "def getEven(num):\n",
    "    '''\n",
    "     Objective: To Find even number\n",
    "    Input Parameter:\n",
    "        num - numeric value\n",
    "    Return: evenum\n",
    "    '''\n",
    "        \n",
    "    for i in range(0 ,num, 2):\n",
    "        print(i)\n",
    "        \n",
    "def main():\n",
    "    \n",
    "    num = int(input(\"Enter the number: \"))\n",
    "    #print(getEven(num))\n",
    "    getEven(num)\n",
    "    \n",
    "if __name__ == '__main__':\n",
    "    main()"
   ]
  },
  {
   "cell_type": "code",
   "execution_count": 31,
   "id": "5a580b85-acc5-4a9c-b1b0-137316a9cd2c",
   "metadata": {},
   "outputs": [
    {
     "name": "stdout",
     "output_type": "stream",
     "text": [
      "d\n",
      "l\n",
      "r\n",
      "o\n",
      "W\n",
      " \n",
      "o\n",
      "l\n",
      "l\n",
      "e\n",
      "H\n"
     ]
    }
   ],
   "source": [
    " string = 'Hello World'\n",
    "\n",
    "for i in range(len(string) - 1, -1, -1):\n",
    "    print(string[i])\n",
    "    \n",
    "\n",
    "    \n",
    "    "
   ]
  },
  {
   "cell_type": "code",
   "execution_count": 42,
   "id": "1dfe1512-f4c8-415f-81eb-f6ee7f0b71d4",
   "metadata": {},
   "outputs": [
    {
     "name": "stdout",
     "output_type": "stream",
     "text": [
      "\n"
     ]
    }
   ],
   "source": [
    "name = 'hello world'\n",
    "print(name[-1: -2])"
   ]
  },
  {
   "cell_type": "code",
   "execution_count": 48,
   "id": "a705d8b8-b1e3-44cc-bf80-ead5b6daca82",
   "metadata": {},
   "outputs": [
    {
     "name": "stdin",
     "output_type": "stream",
     "text": [
      "Enter the string to Reverse:  Mohsin Khan\n"
     ]
    },
    {
     "name": "stdout",
     "output_type": "stream",
     "text": [
      "nahK nishoM\n"
     ]
    }
   ],
   "source": [
    "def ReverseString(string):\n",
    "    '''\n",
    "     Objective: To reverse the string\n",
    "    Input Parameter:\n",
    "        string - string value\n",
    "        \n",
    "    Return: None \n",
    "    '''\n",
    "    revstring = ''\n",
    "    \n",
    "    for i in range(len(string) - 1, -1, -1):\n",
    "        revstring = revstring + str(string[i])\n",
    "    return revstring\n",
    "    \n",
    "    \n",
    "def main():\n",
    "    \n",
    "    string = input(\"Enter the string to Reverse: \")\n",
    "    print(ReverseString(string))\n",
    "    \n",
    "if __name__ == '__main__':\n",
    "    main()\n",
    "    \n",
    "\n",
    "    "
   ]
  },
  {
   "cell_type": "code",
   "execution_count": 52,
   "id": "3e3af010-98ec-465e-88d1-c8fe993a485c",
   "metadata": {},
   "outputs": [
    {
     "name": "stdout",
     "output_type": "stream",
     "text": [
      "10 * 1 = 10\n",
      "10 * 2 = 20\n",
      "10 * 3 = 30\n",
      "10 * 4 = 40\n",
      "10 * 5 = 50\n",
      "10 * 6 = 60\n",
      "10 * 7 = 70\n",
      "10 * 8 = 80\n",
      "10 * 9 = 90\n",
      "10 * 10 = 100\n"
     ]
    }
   ],
   "source": [
    "for i in range(1, 11, 1):\n",
    "    print('10 * ' + str(i) + ' =', 10 * i)"
   ]
  },
  {
   "cell_type": "code",
   "execution_count": 59,
   "id": "4e2ae80e-ef48-4ff7-bf68-e2b4492d9b13",
   "metadata": {},
   "outputs": [
    {
     "name": "stdin",
     "output_type": "stream",
     "text": [
      "Enter the number, which you want to print table of:  67\n",
      "Enter the number of iterations you want to print:  98\n"
     ]
    },
    {
     "name": "stdout",
     "output_type": "stream",
     "text": [
      "67*1= 67\n",
      "67*2= 134\n",
      "67*3= 201\n",
      "67*4= 268\n",
      "67*5= 335\n",
      "67*6= 402\n",
      "67*7= 469\n",
      "67*8= 536\n",
      "67*9= 603\n",
      "67*10= 670\n",
      "67*11= 737\n",
      "67*12= 804\n",
      "67*13= 871\n",
      "67*14= 938\n",
      "67*15= 1005\n",
      "67*16= 1072\n",
      "67*17= 1139\n",
      "67*18= 1206\n",
      "67*19= 1273\n",
      "67*20= 1340\n",
      "67*21= 1407\n",
      "67*22= 1474\n",
      "67*23= 1541\n",
      "67*24= 1608\n",
      "67*25= 1675\n",
      "67*26= 1742\n",
      "67*27= 1809\n",
      "67*28= 1876\n",
      "67*29= 1943\n",
      "67*30= 2010\n",
      "67*31= 2077\n",
      "67*32= 2144\n",
      "67*33= 2211\n",
      "67*34= 2278\n",
      "67*35= 2345\n",
      "67*36= 2412\n",
      "67*37= 2479\n",
      "67*38= 2546\n",
      "67*39= 2613\n",
      "67*40= 2680\n",
      "67*41= 2747\n",
      "67*42= 2814\n",
      "67*43= 2881\n",
      "67*44= 2948\n",
      "67*45= 3015\n",
      "67*46= 3082\n",
      "67*47= 3149\n",
      "67*48= 3216\n",
      "67*49= 3283\n",
      "67*50= 3350\n",
      "67*51= 3417\n",
      "67*52= 3484\n",
      "67*53= 3551\n",
      "67*54= 3618\n",
      "67*55= 3685\n",
      "67*56= 3752\n",
      "67*57= 3819\n",
      "67*58= 3886\n",
      "67*59= 3953\n",
      "67*60= 4020\n",
      "67*61= 4087\n",
      "67*62= 4154\n",
      "67*63= 4221\n",
      "67*64= 4288\n",
      "67*65= 4355\n",
      "67*66= 4422\n",
      "67*67= 4489\n",
      "67*68= 4556\n",
      "67*69= 4623\n",
      "67*70= 4690\n",
      "67*71= 4757\n",
      "67*72= 4824\n",
      "67*73= 4891\n",
      "67*74= 4958\n",
      "67*75= 5025\n",
      "67*76= 5092\n",
      "67*77= 5159\n",
      "67*78= 5226\n",
      "67*79= 5293\n",
      "67*80= 5360\n",
      "67*81= 5427\n",
      "67*82= 5494\n",
      "67*83= 5561\n",
      "67*84= 5628\n",
      "67*85= 5695\n",
      "67*86= 5762\n",
      "67*87= 5829\n",
      "67*88= 5896\n",
      "67*89= 5963\n",
      "67*90= 6030\n",
      "67*91= 6097\n",
      "67*92= 6164\n",
      "67*93= 6231\n",
      "67*94= 6298\n",
      "67*95= 6365\n",
      "67*96= 6432\n",
      "67*97= 6499\n",
      "67*98= 6566\n"
     ]
    }
   ],
   "source": [
    "def printTable(num, nMultiples):\n",
    "    '''\n",
    "     Objective: To print the table of number\n",
    "    Input Parameter:\n",
    "        num - number to print table\n",
    "        nMultiples - No. of multiples\n",
    "        \n",
    "    Return: None \n",
    "    '''\n",
    "    \n",
    "    for i in range(1, nMultiples + 1, 1):\n",
    "        print(str(num) + '*' + str(i) + '=', num * i)\n",
    "        \n",
    "        \n",
    "def main():\n",
    "    \n",
    "    num = int(input(\"Enter the number, which you want to print table of: \"))\n",
    "    nMultiples = int(input(\"Enter the number of iterations you want to print: \"))\n",
    "    printTable(num, nMultiples)\n",
    "    \n",
    "if __name__ == '__main__':\n",
    "    main()"
   ]
  },
  {
   "cell_type": "code",
   "execution_count": 65,
   "id": "c4f15579-dea8-43d8-9833-acd2f888b7eb",
   "metadata": {},
   "outputs": [
    {
     "name": "stdin",
     "output_type": "stream",
     "text": [
      "Enter the number:  34\n",
      "Enter the Number:  34\n",
      "Enter the Number:  34\n",
      "Enter the Number:  34\n",
      "Enter the Number:  34\n",
      "Enter the Number:  34\n",
      "Enter the Number:  34\n",
      "Enter the Number:  34\n",
      "Enter the Number:  35\n",
      "Enter the Number:  45\n",
      "Enter the Number:  45\n",
      "Enter the Number:  45\n",
      "Enter the Number:  \n"
     ]
    },
    {
     "name": "stdout",
     "output_type": "stream",
     "text": [
      "The sum is:  442\n"
     ]
    }
   ],
   "source": [
    "def main():\n",
    "    '''\n",
    "     Objective: To print the table of number\n",
    "    Input Parameter:\n",
    "        num - number to print table\n",
    "        nMultiples - No. of multiples\n",
    "        \n",
    "    Return: None \n",
    "    '''\n",
    "    total = 0\n",
    "    number = input(\"Enter the number: \")\n",
    "    while number != '':\n",
    "        total += int(number)\n",
    "        number = input(\"Enter the Number: \")\n",
    "    print(\"The sum is: \", total)\n",
    "    \n",
    "    \n",
    "if __name__ == '__main__':\n",
    "    main()"
   ]
  },
  {
   "cell_type": "code",
   "execution_count": null,
   "id": "d7297b61-1be3-4312-8576-346efa3bfd80",
   "metadata": {},
   "outputs": [],
   "source": [
    "def main():\n",
    "    '''\n",
    "    Objective: To display the percentage of marks scored by student\n",
    "    Inpute Parameter: None\n",
    "    Return Parameter: None\n",
    "    '''\n",
    "    print(\"hello\")\n",
    "    totalMarks = 0\n",
    "    nSubjects = 0\n",
    "    \n",
    "    while True:\n",
    "        marks = input(\"Enter the Marks for Subject\" + str(nSubjects + 1) + \":\")\n",
    "        if marks == '':\n",
    "            break\n",
    "        marks = float(marks)\n",
    "        if marks < 0 or marks > 100:\n",
    "            print(\"Invalid Marks! \")\n",
    "            continue\n",
    "        nSubjects = nSubjects + 1\n",
    "        totalMarks += marks\n",
    "        \n",
    "        \n",
    "    percentage = totalMarks / nSubjects\n",
    "    print('Total marks: ', int(totalMarks))\n",
    "    print('Number of Subjects', nSubjects)\n",
    "    print(\"Percentage of Marks: \", percentage)\n",
    "        \n",
    "        \n",
    "        \n",
    "if __name__ == '__main__':\n",
    "    main()\n",
    "        "
   ]
  },
  {
   "cell_type": "code",
   "execution_count": 20,
   "id": "abade9d3-75bd-49a4-9cc4-fb3f6e616983",
   "metadata": {},
   "outputs": [
    {
     "name": "stdin",
     "output_type": "stream",
     "text": [
      "Enter the string:  yuyi\n"
     ]
    },
    {
     "name": "stdout",
     "output_type": "stream",
     "text": [
      "Status False\n"
     ]
    }
   ],
   "source": [
    "def checkpalindrome(text):\n",
    "    \"\"\"\n",
    "    Objective: To print whether given string is palindrome\n",
    "    Input Parameter:\n",
    "        text - string\n",
    "    \"\"\"\n",
    "    \n",
    "    length = len(text)\n",
    "    j = length - 1\n",
    "    status = False\n",
    "    \n",
    "    if length % 2 == 0:\n",
    "        for i in range(0, int(length/2)):\n",
    "            if text[i] == text[j-i]:\n",
    "                status = True\n",
    "            else:\n",
    "                status = False\n",
    "    else:\n",
    "        for i in range(0, int((length/2)) + 1):\n",
    "            if text[i] == text[j-i]:\n",
    "                status = True\n",
    "            else:\n",
    "                status = False\n",
    "    \n",
    "    return status\n",
    "            \n",
    "def main():\n",
    "    \n",
    "    string = input(\"Enter the string: \")\n",
    "    print(\"Status\", checkpalindrome(string))\n",
    "    \n",
    "if __name__ == '__main__':\n",
    "    main()\n",
    "    "
   ]
  },
  {
   "cell_type": "code",
   "execution_count": 15,
   "id": "daa8bec9-8457-4557-a72f-4b66abe87953",
   "metadata": {},
   "outputs": [
    {
     "data": {
      "text/plain": [
       "5"
      ]
     },
     "execution_count": 15,
     "metadata": {},
     "output_type": "execute_result"
    }
   ],
   "source": [
    "def summation(value1, value2):\n",
    "    \n",
    "    plus = value1 + value2\n",
    "    \n",
    "    return plus\n",
    "\n",
    "\n",
    "summation(3, 2)"
   ]
  },
  {
   "cell_type": "code",
   "execution_count": 14,
   "id": "a5ca999a-4bbf-44f5-a5ce-fe0a1d3192b7",
   "metadata": {},
   "outputs": [
    {
     "name": "stdin",
     "output_type": "stream",
     "text": [
      "Enter the no. of Rows:  3\n"
     ]
    },
    {
     "name": "stdout",
     "output_type": "stream",
     "text": [
      "* * * * * * "
     ]
    }
   ],
   "source": [
    "def pyramid(nRows):\n",
    "    '''\n",
    "    Objective: To print the pyramid\n",
    "    inPut parameter:\n",
    "       nRows: numeric value\n",
    "    Return: None\n",
    "    '''\n",
    "    \n",
    "    for i in range(0, nRows):\n",
    "            for j in range(0, i + 1):\n",
    "                print(\"* \", end= '')\n",
    "            \n",
    "            \n",
    "            \n",
    "            \n",
    "def main():\n",
    "    \n",
    "    nRows = int(input(\"Enter the no. of Rows: \"))\n",
    "    pyramid(nRows)\n",
    "    \n",
    "if __name__ == '__main__':\n",
    "    main()"
   ]
  },
  {
   "cell_type": "code",
   "execution_count": 18,
   "id": "dd0dfe76-e108-401c-ab42-53e80f4b3718",
   "metadata": {},
   "outputs": [
    {
     "name": "stdin",
     "output_type": "stream",
     "text": [
      "Enter the number:  4\n"
     ]
    },
    {
     "name": "stdout",
     "output_type": "stream",
     "text": [
      "      * \n",
      "    * * \n",
      "  * * * \n",
      "* * * * \n"
     ]
    }
   ],
   "source": [
    "def triangle(n):\n",
    "    \n",
    "    k = 2 * n - 2\n",
    "    \n",
    "    for i in range(0, n):\n",
    "        for j in range(0, k):\n",
    "            print(end= ' ')\n",
    "        k = k - 2\n",
    "        for j in range(0, i + 1):\n",
    "            print(\"* \", end= '')\n",
    "        print('')\n",
    "        \n",
    "        \n",
    "def main():\n",
    "    \n",
    "    n = int(input(\"Enter the number: \"))\n",
    "    triangle(n)\n",
    "    \n",
    "if __name__ == '__main__':\n",
    "    main()\n",
    "        \n",
    "        "
   ]
  },
  {
   "cell_type": "code",
   "execution_count": 23,
   "id": "3e6f217e-0af9-4ef6-a122-9033d4c88933",
   "metadata": {},
   "outputs": [
    {
     "name": "stdin",
     "output_type": "stream",
     "text": [
      "Enter the string:  abdullah\n"
     ]
    },
    {
     "name": "stdout",
     "output_type": "stream",
     "text": [
      "8\n"
     ]
    }
   ],
   "source": [
    "def duplicate(string):\n",
    "    count = 0\n",
    "    for i in range(0, len(string)):\n",
    "        for j in range(0, len(string)):\n",
    "            if string[i] == string[j]:\n",
    "                count += 1\n",
    "                break\n",
    "                \n",
    "    return count\n",
    "                \n",
    "def main():\n",
    "    \n",
    "    string = input(\"Enter the string: \")\n",
    "    print(duplicate(string))\n",
    "    \n",
    "if __name__ == '__main__':\n",
    "    main()"
   ]
  },
  {
   "cell_type": "code",
   "execution_count": 1,
   "id": "1a025b07-dd25-42a3-a062-5e37eeed2d3f",
   "metadata": {},
   "outputs": [
    {
     "name": "stdout",
     "output_type": "stream",
     "text": [
      "('Mohsin Khan', 'Ahsan', 192, 34, 23)\n"
     ]
    }
   ],
   "source": [
    "tupl1 = (\"Mohsin Khan\", 'Ahsan', 192, 34, 23)\n",
    "print(tupl1)"
   ]
  },
  {
   "cell_type": "code",
   "execution_count": 3,
   "id": "3bb8f0c3-438e-4baf-8448-85fb994d1b3b",
   "metadata": {},
   "outputs": [
    {
     "data": {
      "text/plain": [
       "192"
      ]
     },
     "execution_count": 3,
     "metadata": {},
     "output_type": "execute_result"
    }
   ],
   "source": [
    "tupl1[2]"
   ]
  },
  {
   "cell_type": "code",
   "execution_count": 1,
   "id": "0719e770-fa1d-4ccc-b7a6-0d31b67a8c78",
   "metadata": {},
   "outputs": [],
   "source": [
    "set = {'Hello', 'World', 34, 34 ,443}"
   ]
  },
  {
   "cell_type": "code",
   "execution_count": 2,
   "id": "f7211c41-53f4-487f-989e-f24ef36f39ae",
   "metadata": {},
   "outputs": [
    {
     "name": "stdout",
     "output_type": "stream",
     "text": [
      "{443, 34, 'Hello', 'World'}\n"
     ]
    }
   ],
   "source": [
    "print(set)"
   ]
  },
  {
   "cell_type": "code",
   "execution_count": 9,
   "id": "4001fabb-9d2c-4f80-939c-b601c8a1df7b",
   "metadata": {},
   "outputs": [
    {
     "data": {
      "text/plain": [
       "{1, 2, 3, 19, 32, 34}"
      ]
     },
     "execution_count": 9,
     "metadata": {},
     "output_type": "execute_result"
    }
   ],
   "source": [
    "set1 = {19, 32, 23, 1,2,3, 4,3, 4,34 ,34 }\n",
    "set2 = {12, 23, 23, 5, 6, 89, 5, 6, 5, 4}\n",
    "\n",
    "set1.difference(set2)"
   ]
  },
  {
   "cell_type": "code",
   "execution_count": 11,
   "id": "663c0919-93dc-4d41-a840-291235af5027",
   "metadata": {},
   "outputs": [
    {
     "data": {
      "text/plain": [
       "{5, 6, 12, 89}"
      ]
     },
     "execution_count": 11,
     "metadata": {},
     "output_type": "execute_result"
    }
   ],
   "source": [
    "set2.difference(set1)"
   ]
  },
  {
   "cell_type": "code",
   "execution_count": 13,
   "id": "66c65be3-2a62-46d3-8ccf-e2ace56f9f5f",
   "metadata": {},
   "outputs": [
    {
     "name": "stdout",
     "output_type": "stream",
     "text": [
      "(55, 66)\n",
      "(33, 44)\n"
     ]
    }
   ],
   "source": [
    "tuple1 = (33, 44)\n",
    "tuple2 = (55, 66)\n",
    "temp = tuple1\n",
    "tuple1 = tuple2\n",
    "tuple2 = temp\n",
    "\n",
    "print(tuple1)\n",
    "print(tuple2)"
   ]
  },
  {
   "cell_type": "code",
   "execution_count": 16,
   "id": "d308726b-7954-4ee6-bbc1-004f1f3016fb",
   "metadata": {},
   "outputs": [
    {
     "ename": "AttributeError",
     "evalue": "'tuple' object has no attribute 'append'",
     "output_type": "error",
     "traceback": [
      "\u001b[1;31m---------------------------------------------------------------------------\u001b[0m",
      "\u001b[1;31mAttributeError\u001b[0m                            Traceback (most recent call last)",
      "\u001b[1;32m<ipython-input-16-40f57c34502e>\u001b[0m in \u001b[0;36m<module>\u001b[1;34m\u001b[0m\n\u001b[0;32m      1\u001b[0m \u001b[0mtuple1\u001b[0m \u001b[1;33m=\u001b[0m \u001b[1;33m(\u001b[0m\u001b[1;36m11\u001b[0m\u001b[1;33m,\u001b[0m \u001b[1;36m22\u001b[0m\u001b[1;33m,\u001b[0m \u001b[1;36m33\u001b[0m\u001b[1;33m,\u001b[0m \u001b[1;36m44\u001b[0m\u001b[1;33m,\u001b[0m \u001b[1;36m55\u001b[0m\u001b[1;33m,\u001b[0m \u001b[1;36m66\u001b[0m\u001b[1;33m)\u001b[0m\u001b[1;33m\u001b[0m\u001b[1;33m\u001b[0m\u001b[0m\n\u001b[1;32m----> 2\u001b[1;33m \u001b[0mtuple2\u001b[0m\u001b[1;33m.\u001b[0m\u001b[0mappend\u001b[0m\u001b[1;33m(\u001b[0m\u001b[0mtuple1\u001b[0m\u001b[1;33m[\u001b[0m\u001b[1;36m3\u001b[0m\u001b[1;33m]\u001b[0m\u001b[1;33m)\u001b[0m\u001b[1;33m\u001b[0m\u001b[1;33m\u001b[0m\u001b[0m\n\u001b[0m",
      "\u001b[1;31mAttributeError\u001b[0m: 'tuple' object has no attribute 'append'"
     ]
    }
   ],
   "source": [
    "tuple1 = (11, 22, 33, 44, 55, 66)\n",
    "tuple2.append(tuple1[3])"
   ]
  },
  {
   "cell_type": "code",
   "execution_count": 25,
   "id": "82f2a897-9bb5-4e05-81b2-a40274f163f4",
   "metadata": {},
   "outputs": [
    {
     "ename": "TypeError",
     "evalue": "'type' object is not subscriptable",
     "output_type": "error",
     "traceback": [
      "\u001b[1;31m---------------------------------------------------------------------------\u001b[0m",
      "\u001b[1;31mTypeError\u001b[0m                                 Traceback (most recent call last)",
      "\u001b[1;32m<ipython-input-25-7691ddee8648>\u001b[0m in \u001b[0;36m<module>\u001b[1;34m\u001b[0m\n\u001b[0;32m      2\u001b[0m \u001b[0mtuple1\u001b[0m\u001b[1;33m.\u001b[0m\u001b[0mcount\u001b[0m\u001b[1;33m(\u001b[0m\u001b[1;36m50\u001b[0m\u001b[1;33m)\u001b[0m\u001b[1;33m\u001b[0m\u001b[1;33m\u001b[0m\u001b[0m\n\u001b[0;32m      3\u001b[0m \u001b[1;32mfor\u001b[0m \u001b[0mi\u001b[0m \u001b[1;32min\u001b[0m \u001b[0mrange\u001b[0m\u001b[1;33m(\u001b[0m\u001b[1;36m1\u001b[0m\u001b[1;33m,\u001b[0m \u001b[0mlen\u001b[0m\u001b[1;33m(\u001b[0m\u001b[0mtuple1\u001b[0m\u001b[1;33m)\u001b[0m\u001b[1;33m)\u001b[0m\u001b[1;33m:\u001b[0m\u001b[1;33m\u001b[0m\u001b[1;33m\u001b[0m\u001b[0m\n\u001b[1;32m----> 4\u001b[1;33m     \u001b[1;32mif\u001b[0m \u001b[0mtuple\u001b[0m\u001b[1;33m[\u001b[0m\u001b[0mi\u001b[0m\u001b[1;33m]\u001b[0m \u001b[1;33m==\u001b[0m \u001b[1;36m50\u001b[0m\u001b[1;33m:\u001b[0m\u001b[1;33m\u001b[0m\u001b[1;33m\u001b[0m\u001b[0m\n\u001b[0m\u001b[0;32m      5\u001b[0m         \u001b[0mcount\u001b[0m \u001b[1;33m+=\u001b[0m \u001b[1;36m1\u001b[0m\u001b[1;33m\u001b[0m\u001b[1;33m\u001b[0m\u001b[0m\n\u001b[0;32m      6\u001b[0m \u001b[1;33m\u001b[0m\u001b[0m\n",
      "\u001b[1;31mTypeError\u001b[0m: 'type' object is not subscriptable"
     ]
    }
   ],
   "source": [
    "tuple1 = (50, 50, 50, 34, 23, 23, 23, 4, 5, 5)\n",
    "tuple1.count(50)\n",
    "for i in range(1, len(tuple1)):\n",
    "    if tuple[i] == 50:\n",
    "        count += 1\n",
    "        \n",
    "        \n",
    "print(count)\n"
   ]
  },
  {
   "cell_type": "code",
   "execution_count": 1,
   "id": "d75b63c7-fde4-4799-b835-396341272721",
   "metadata": {},
   "outputs": [
    {
     "name": "stdout",
     "output_type": "stream",
     "text": [
      "Prime:  1\n",
      "Prime:  3\n",
      "Prime:  5\n",
      "Prime:  7\n",
      "Prime:  9\n",
      "Prime:  11\n",
      "Prime:  13\n",
      "Prime:  15\n",
      "Prime:  17\n",
      "Prime:  19\n",
      "Prime:  21\n",
      "Prime:  23\n",
      "Prime:  25\n",
      "Prime:  27\n",
      "Prime:  29\n",
      "Prime:  31\n",
      "Prime:  33\n",
      "Prime:  35\n",
      "Prime:  37\n",
      "Prime:  39\n",
      "Prime:  41\n",
      "Prime:  43\n",
      "Prime:  45\n",
      "Prime:  47\n",
      "Prime:  49\n",
      "Prime:  51\n",
      "Prime:  53\n",
      "Prime:  55\n",
      "Prime:  57\n",
      "Prime:  59\n",
      "Prime:  61\n",
      "Prime:  63\n",
      "Prime:  65\n",
      "Prime:  67\n",
      "Prime:  69\n",
      "Prime:  71\n",
      "Prime:  73\n",
      "Prime:  75\n",
      "Prime:  77\n",
      "Prime:  79\n",
      "Prime:  81\n",
      "Prime:  83\n",
      "Prime:  85\n",
      "Prime:  87\n",
      "Prime:  89\n",
      "Prime:  91\n",
      "Prime:  93\n",
      "Prime:  95\n",
      "Prime:  97\n",
      "Prime:  99\n",
      "Prime:  101\n",
      "Prime:  103\n",
      "Prime:  105\n",
      "Prime:  107\n",
      "Prime:  109\n",
      "Prime:  111\n",
      "Prime:  113\n",
      "Prime:  115\n",
      "Prime:  117\n",
      "Prime:  119\n",
      "Prime:  121\n",
      "Prime:  123\n",
      "Prime:  125\n",
      "Prime:  127\n",
      "Prime:  129\n",
      "Prime:  131\n",
      "Prime:  133\n",
      "Prime:  135\n",
      "Prime:  137\n",
      "Prime:  139\n",
      "Prime:  141\n",
      "Prime:  143\n",
      "Prime:  145\n",
      "Prime:  147\n",
      "Prime:  149\n",
      "Prime:  151\n",
      "Prime:  153\n",
      "Prime:  155\n",
      "Prime:  157\n",
      "Prime:  159\n",
      "Prime:  161\n",
      "Prime:  163\n",
      "Prime:  165\n",
      "Prime:  167\n",
      "Prime:  169\n",
      "Prime:  171\n",
      "Prime:  173\n",
      "Prime:  175\n",
      "Prime:  177\n",
      "Prime:  179\n",
      "Prime:  181\n",
      "Prime:  183\n",
      "Prime:  185\n",
      "Prime:  187\n",
      "Prime:  189\n",
      "Prime:  191\n",
      "Prime:  193\n",
      "Prime:  195\n",
      "Prime:  197\n",
      "Prime:  199\n",
      "Prime:  201\n",
      "Prime:  203\n",
      "Prime:  205\n",
      "Prime:  207\n",
      "Prime:  209\n",
      "Prime:  211\n",
      "Prime:  213\n",
      "Prime:  215\n",
      "Prime:  217\n",
      "Prime:  219\n",
      "Prime:  221\n",
      "Prime:  223\n",
      "Prime:  225\n",
      "Prime:  227\n",
      "Prime:  229\n",
      "Prime:  231\n",
      "Prime:  233\n",
      "Prime:  235\n",
      "Prime:  237\n",
      "Prime:  239\n",
      "Prime:  241\n",
      "Prime:  243\n",
      "Prime:  245\n",
      "Prime:  247\n",
      "Prime:  249\n",
      "Prime:  251\n",
      "Prime:  253\n",
      "Prime:  255\n",
      "Prime:  257\n",
      "Prime:  259\n",
      "Prime:  261\n",
      "Prime:  263\n",
      "Prime:  265\n",
      "Prime:  267\n",
      "Prime:  269\n",
      "Prime:  271\n",
      "Prime:  273\n",
      "Prime:  275\n",
      "Prime:  277\n",
      "Prime:  279\n",
      "Prime:  281\n",
      "Prime:  283\n",
      "Prime:  285\n",
      "Prime:  287\n",
      "Prime:  289\n",
      "Prime:  291\n",
      "Prime:  293\n",
      "Prime:  295\n",
      "Prime:  297\n",
      "Prime:  299\n",
      "Prime:  301\n",
      "Prime:  303\n",
      "Prime:  305\n",
      "Prime:  307\n",
      "Prime:  309\n",
      "Prime:  311\n",
      "Prime:  313\n",
      "Prime:  315\n",
      "Prime:  317\n",
      "Prime:  319\n",
      "Prime:  321\n",
      "Prime:  323\n",
      "Prime:  325\n",
      "Prime:  327\n",
      "Prime:  329\n",
      "Prime:  331\n",
      "Prime:  333\n",
      "Prime:  335\n",
      "Prime:  337\n",
      "Prime:  339\n",
      "Prime:  341\n",
      "Prime:  343\n",
      "Prime:  345\n",
      "Prime:  347\n",
      "Prime:  349\n",
      "Prime:  351\n",
      "Prime:  353\n",
      "Prime:  355\n",
      "Prime:  357\n",
      "Prime:  359\n",
      "Prime:  361\n",
      "Prime:  363\n",
      "Prime:  365\n",
      "Prime:  367\n",
      "Prime:  369\n",
      "Prime:  371\n",
      "Prime:  373\n",
      "Prime:  375\n",
      "Prime:  377\n",
      "Prime:  379\n",
      "Prime:  381\n",
      "Prime:  383\n",
      "Prime:  385\n",
      "Prime:  387\n",
      "Prime:  389\n",
      "Prime:  391\n",
      "Prime:  393\n",
      "Prime:  395\n",
      "Prime:  397\n",
      "Prime:  399\n",
      "Prime:  401\n",
      "Prime:  403\n",
      "Prime:  405\n",
      "Prime:  407\n",
      "Prime:  409\n",
      "Prime:  411\n",
      "Prime:  413\n",
      "Prime:  415\n",
      "Prime:  417\n",
      "Prime:  419\n",
      "Prime:  421\n",
      "Prime:  423\n",
      "Prime:  425\n",
      "Prime:  427\n",
      "Prime:  429\n",
      "Prime:  431\n",
      "Prime:  433\n",
      "Prime:  435\n",
      "Prime:  437\n",
      "Prime:  439\n",
      "Prime:  441\n",
      "Prime:  443\n",
      "Prime:  445\n",
      "Prime:  447\n",
      "Prime:  449\n",
      "Prime:  451\n",
      "Prime:  453\n",
      "Prime:  455\n",
      "Prime:  457\n",
      "Prime:  459\n",
      "Prime:  461\n",
      "Prime:  463\n",
      "Prime:  465\n",
      "Prime:  467\n",
      "Prime:  469\n",
      "Prime:  471\n",
      "Prime:  473\n",
      "Prime:  475\n",
      "Prime:  477\n",
      "Prime:  479\n",
      "Prime:  481\n",
      "Prime:  483\n",
      "Prime:  485\n",
      "Prime:  487\n",
      "Prime:  489\n",
      "Prime:  491\n",
      "Prime:  493\n",
      "Prime:  495\n",
      "Prime:  497\n",
      "Prime:  499\n",
      "Prime:  501\n",
      "Prime:  503\n",
      "Prime:  505\n",
      "Prime:  507\n",
      "Prime:  509\n",
      "Prime:  511\n",
      "Prime:  513\n",
      "Prime:  515\n",
      "Prime:  517\n",
      "Prime:  519\n",
      "Prime:  521\n",
      "Prime:  523\n",
      "Prime:  525\n",
      "Prime:  527\n",
      "Prime:  529\n",
      "Prime:  531\n",
      "Prime:  533\n",
      "Prime:  535\n",
      "Prime:  537\n",
      "Prime:  539\n",
      "Prime:  541\n",
      "Prime:  543\n",
      "Prime:  545\n",
      "Prime:  547\n",
      "Prime:  549\n",
      "Prime:  551\n",
      "Prime:  553\n",
      "Prime:  555\n",
      "Prime:  557\n",
      "Prime:  559\n",
      "Prime:  561\n",
      "Prime:  563\n",
      "Prime:  565\n",
      "Prime:  567\n",
      "Prime:  569\n",
      "Prime:  571\n",
      "Prime:  573\n",
      "Prime:  575\n",
      "Prime:  577\n",
      "Prime:  579\n",
      "Prime:  581\n",
      "Prime:  583\n",
      "Prime:  585\n",
      "Prime:  587\n",
      "Prime:  589\n",
      "Prime:  591\n",
      "Prime:  593\n",
      "Prime:  595\n",
      "Prime:  597\n",
      "Prime:  599\n",
      "Prime:  601\n",
      "Prime:  603\n",
      "Prime:  605\n",
      "Prime:  607\n",
      "Prime:  609\n",
      "Prime:  611\n",
      "Prime:  613\n",
      "Prime:  615\n",
      "Prime:  617\n",
      "Prime:  619\n",
      "Prime:  621\n",
      "Prime:  623\n",
      "Prime:  625\n",
      "Prime:  627\n",
      "Prime:  629\n",
      "Prime:  631\n",
      "Prime:  633\n",
      "Prime:  635\n",
      "Prime:  637\n",
      "Prime:  639\n",
      "Prime:  641\n",
      "Prime:  643\n",
      "Prime:  645\n",
      "Prime:  647\n",
      "Prime:  649\n",
      "Prime:  651\n",
      "Prime:  653\n",
      "Prime:  655\n",
      "Prime:  657\n",
      "Prime:  659\n",
      "Prime:  661\n",
      "Prime:  663\n",
      "Prime:  665\n",
      "Prime:  667\n",
      "Prime:  669\n",
      "Prime:  671\n",
      "Prime:  673\n",
      "Prime:  675\n",
      "Prime:  677\n",
      "Prime:  679\n",
      "Prime:  681\n",
      "Prime:  683\n",
      "Prime:  685\n",
      "Prime:  687\n",
      "Prime:  689\n",
      "Prime:  691\n",
      "Prime:  693\n",
      "Prime:  695\n",
      "Prime:  697\n",
      "Prime:  699\n",
      "Prime:  701\n",
      "Prime:  703\n",
      "Prime:  705\n",
      "Prime:  707\n",
      "Prime:  709\n",
      "Prime:  711\n",
      "Prime:  713\n",
      "Prime:  715\n",
      "Prime:  717\n",
      "Prime:  719\n",
      "Prime:  721\n",
      "Prime:  723\n",
      "Prime:  725\n",
      "Prime:  727\n",
      "Prime:  729\n",
      "Prime:  731\n",
      "Prime:  733\n",
      "Prime:  735\n",
      "Prime:  737\n",
      "Prime:  739\n",
      "Prime:  741\n",
      "Prime:  743\n",
      "Prime:  745\n",
      "Prime:  747\n",
      "Prime:  749\n",
      "Prime:  751\n",
      "Prime:  753\n",
      "Prime:  755\n",
      "Prime:  757\n",
      "Prime:  759\n",
      "Prime:  761\n",
      "Prime:  763\n",
      "Prime:  765\n",
      "Prime:  767\n",
      "Prime:  769\n",
      "Prime:  771\n",
      "Prime:  773\n",
      "Prime:  775\n",
      "Prime:  777\n",
      "Prime:  779\n",
      "Prime:  781\n",
      "Prime:  783\n",
      "Prime:  785\n",
      "Prime:  787\n",
      "Prime:  789\n",
      "Prime:  791\n",
      "Prime:  793\n",
      "Prime:  795\n",
      "Prime:  797\n",
      "Prime:  799\n",
      "Prime:  801\n",
      "Prime:  803\n",
      "Prime:  805\n",
      "Prime:  807\n",
      "Prime:  809\n",
      "Prime:  811\n",
      "Prime:  813\n",
      "Prime:  815\n",
      "Prime:  817\n",
      "Prime:  819\n",
      "Prime:  821\n",
      "Prime:  823\n",
      "Prime:  825\n",
      "Prime:  827\n",
      "Prime:  829\n",
      "Prime:  831\n",
      "Prime:  833\n",
      "Prime:  835\n",
      "Prime:  837\n",
      "Prime:  839\n",
      "Prime:  841\n",
      "Prime:  843\n",
      "Prime:  845\n",
      "Prime:  847\n",
      "Prime:  849\n",
      "Prime:  851\n",
      "Prime:  853\n",
      "Prime:  855\n",
      "Prime:  857\n",
      "Prime:  859\n",
      "Prime:  861\n",
      "Prime:  863\n",
      "Prime:  865\n",
      "Prime:  867\n",
      "Prime:  869\n",
      "Prime:  871\n",
      "Prime:  873\n",
      "Prime:  875\n",
      "Prime:  877\n",
      "Prime:  879\n",
      "Prime:  881\n",
      "Prime:  883\n",
      "Prime:  885\n",
      "Prime:  887\n",
      "Prime:  889\n",
      "Prime:  891\n",
      "Prime:  893\n",
      "Prime:  895\n",
      "Prime:  897\n",
      "Prime:  899\n",
      "Prime:  901\n",
      "Prime:  903\n",
      "Prime:  905\n",
      "Prime:  907\n",
      "Prime:  909\n",
      "Prime:  911\n",
      "Prime:  913\n",
      "Prime:  915\n",
      "Prime:  917\n",
      "Prime:  919\n",
      "Prime:  921\n",
      "Prime:  923\n",
      "Prime:  925\n",
      "Prime:  927\n",
      "Prime:  929\n",
      "Prime:  931\n",
      "Prime:  933\n",
      "Prime:  935\n",
      "Prime:  937\n",
      "Prime:  939\n",
      "Prime:  941\n",
      "Prime:  943\n",
      "Prime:  945\n",
      "Prime:  947\n",
      "Prime:  949\n",
      "Prime:  951\n",
      "Prime:  953\n",
      "Prime:  955\n",
      "Prime:  957\n",
      "Prime:  959\n",
      "Prime:  961\n",
      "Prime:  963\n",
      "Prime:  965\n",
      "Prime:  967\n",
      "Prime:  969\n",
      "Prime:  971\n",
      "Prime:  973\n",
      "Prime:  975\n",
      "Prime:  977\n",
      "Prime:  979\n",
      "Prime:  981\n",
      "Prime:  983\n",
      "Prime:  985\n",
      "Prime:  987\n",
      "Prime:  989\n",
      "Prime:  991\n",
      "Prime:  993\n",
      "Prime:  995\n",
      "Prime:  997\n",
      "Prime:  999\n"
     ]
    }
   ],
   "source": [
    "for i in range(1, 1000):\n",
    "    if i % 2 != 0:\n",
    "        print('Prime: ', i)\n",
    "        "
   ]
  },
  {
   "cell_type": "code",
   "execution_count": 52,
   "id": "82400444-aa0c-4490-9694-de6904ce3dad",
   "metadata": {},
   "outputs": [
    {
     "ename": "SyntaxError",
     "evalue": "invalid syntax (<ipython-input-52-7c66e78c33f7>, line 10)",
     "output_type": "error",
     "traceback": [
      "\u001b[1;36m  File \u001b[1;32m\"<ipython-input-52-7c66e78c33f7>\"\u001b[1;36m, line \u001b[1;32m10\u001b[0m\n\u001b[1;33m    for i in range(2, (number // 2 + 1):\u001b[0m\n\u001b[1;37m                                       ^\u001b[0m\n\u001b[1;31mSyntaxError\u001b[0m\u001b[1;31m:\u001b[0m invalid syntax\n"
     ]
    }
   ],
   "source": [
    "def CheckPrime(number):\n",
    "    count = 0\n",
    "    '''\n",
    "    Objective: Check whther input number is prime\n",
    "    Input Parameter:\n",
    "        number: number to check\n",
    "    Return: status\n",
    "    '''\n",
    "    \n",
    "    for i in range(2, (number // 2 + 1):\n",
    "        if number % 2 == 0:\n",
    "            count += 1\n",
    "            break\n",
    "    return count\n",
    "\n",
    "def main():\n",
    "    \n",
    "    number = int(input('Enter the number: '))\n",
    "    count = CheckPrime(number)\n",
    "    if(count == 0 and number != 1):\n",
    "        print('Entered number ' + str(number) + ' is Prime Number')\n",
    "    else:\n",
    "        print('Entered number ' + str(number) + ' is NOT Prime Number')\n",
    "        \n",
    "if __name__ == '__main__':\n",
    "    main()"
   ]
  },
  {
   "cell_type": "code",
   "execution_count": 15,
   "id": "98c06d1c-6750-4e8e-86e2-34439be800d6",
   "metadata": {},
   "outputs": [],
   "source": [
    "#List\n",
    "words = 'aeiou'\n",
    "vowels = list(words)\n",
    "\n"
   ]
  },
  {
   "cell_type": "code",
   "execution_count": 18,
   "id": "5380755c-2ae7-48f4-ada4-742ee0358ea1",
   "metadata": {},
   "outputs": [
    {
     "data": {
      "text/plain": [
       "['a', 'e', 'i', 'o', 'u', 23, 23, 23]"
      ]
     },
     "execution_count": 18,
     "metadata": {},
     "output_type": "execute_result"
    }
   ],
   "source": [
    "vowels.append(23)\n",
    "vowels"
   ]
  },
  {
   "cell_type": "code",
   "execution_count": 19,
   "id": "2e65279e-88bb-44b4-acc2-ad4f9910ddf5",
   "metadata": {},
   "outputs": [],
   "source": [
    "vowels.extend(['a', 'w', 't', 45])"
   ]
  },
  {
   "cell_type": "code",
   "execution_count": 20,
   "id": "1a1175ee-b53c-4a47-8698-b5421b4c73b6",
   "metadata": {},
   "outputs": [
    {
     "data": {
      "text/plain": [
       "['a', 'e', 'i', 'o', 'u', 23, 23, 23, 'a', 'w', 't', 45]"
      ]
     },
     "execution_count": 20,
     "metadata": {},
     "output_type": "execute_result"
    }
   ],
   "source": [
    "vowels"
   ]
  },
  {
   "cell_type": "code",
   "execution_count": 24,
   "id": "a7ef1249-018f-4b14-8d5e-e0e1168d63d3",
   "metadata": {},
   "outputs": [
    {
     "data": {
      "text/plain": [
       "2"
      ]
     },
     "execution_count": 24,
     "metadata": {},
     "output_type": "execute_result"
    }
   ],
   "source": [
    "vowels.count('a')"
   ]
  },
  {
   "cell_type": "code",
   "execution_count": 25,
   "id": "6027771d-4e23-40df-b5d0-ceba63e9ee94",
   "metadata": {},
   "outputs": [
    {
     "data": {
      "text/plain": [
       "3"
      ]
     },
     "execution_count": 25,
     "metadata": {},
     "output_type": "execute_result"
    }
   ],
   "source": [
    "vowels.count(23)"
   ]
  },
  {
   "cell_type": "code",
   "execution_count": 28,
   "id": "7b27ecb0-2167-41e5-b143-696b97315586",
   "metadata": {},
   "outputs": [
    {
     "data": {
      "text/plain": [
       "23"
      ]
     },
     "execution_count": 28,
     "metadata": {},
     "output_type": "execute_result"
    }
   ],
   "source": [
    "vowels.pop(5)"
   ]
  },
  {
   "cell_type": "code",
   "execution_count": 29,
   "id": "82400f92-0868-463b-b73c-425e6bf5150b",
   "metadata": {},
   "outputs": [],
   "source": [
    "vowels.remove(23)"
   ]
  },
  {
   "cell_type": "code",
   "execution_count": 30,
   "id": "1f558cbb-c80c-4fd0-b682-3ec165e50f3a",
   "metadata": {},
   "outputs": [
    {
     "data": {
      "text/plain": [
       "['a', 'e', 'i', 'o', 'u', 23, 'a', 'w', 't', 45]"
      ]
     },
     "execution_count": 30,
     "metadata": {},
     "output_type": "execute_result"
    }
   ],
   "source": [
    "vowels"
   ]
  },
  {
   "cell_type": "code",
   "execution_count": 31,
   "id": "3872d1fd-ae40-45c8-a394-ee90b53a268a",
   "metadata": {},
   "outputs": [],
   "source": [
    "vowels.insert(2, 'mohsin')"
   ]
  },
  {
   "cell_type": "code",
   "execution_count": 32,
   "id": "eef46e63-bb22-4919-809a-85dc4ace55df",
   "metadata": {},
   "outputs": [
    {
     "data": {
      "text/plain": [
       "['a', 'e', 'mohsin', 'i', 'o', 'u', 23, 'a', 'w', 't', 45]"
      ]
     },
     "execution_count": 32,
     "metadata": {},
     "output_type": "execute_result"
    }
   ],
   "source": [
    "vowels"
   ]
  },
  {
   "cell_type": "code",
   "execution_count": 33,
   "id": "75a3468c-a42b-42b2-902b-47b4ecd8e328",
   "metadata": {},
   "outputs": [],
   "source": [
    "vowels.reverse()"
   ]
  },
  {
   "cell_type": "code",
   "execution_count": 34,
   "id": "99f1ce17-3331-4b6a-a785-2f42cf05aa0e",
   "metadata": {},
   "outputs": [
    {
     "data": {
      "text/plain": [
       "[45, 't', 'w', 'a', 23, 'u', 'o', 'i', 'mohsin', 'e', 'a']"
      ]
     },
     "execution_count": 34,
     "metadata": {},
     "output_type": "execute_result"
    }
   ],
   "source": [
    "vowels"
   ]
  },
  {
   "cell_type": "code",
   "execution_count": 35,
   "id": "92b0522c-cfa4-4fa8-81f5-cf7de66b7fe7",
   "metadata": {},
   "outputs": [
    {
     "ename": "TypeError",
     "evalue": "'<' not supported between instances of 'str' and 'int'",
     "output_type": "error",
     "traceback": [
      "\u001b[1;31m---------------------------------------------------------------------------\u001b[0m",
      "\u001b[1;31mTypeError\u001b[0m                                 Traceback (most recent call last)",
      "\u001b[1;32m<ipython-input-35-95043add2734>\u001b[0m in \u001b[0;36m<module>\u001b[1;34m\u001b[0m\n\u001b[1;32m----> 1\u001b[1;33m \u001b[0mvowels\u001b[0m\u001b[1;33m.\u001b[0m\u001b[0msort\u001b[0m\u001b[1;33m(\u001b[0m\u001b[1;33m)\u001b[0m\u001b[1;33m\u001b[0m\u001b[1;33m\u001b[0m\u001b[0m\n\u001b[0m",
      "\u001b[1;31mTypeError\u001b[0m: '<' not supported between instances of 'str' and 'int'"
     ]
    }
   ],
   "source": [
    "vowels.sort()"
   ]
  },
  {
   "cell_type": "code",
   "execution_count": 36,
   "id": "96813d5d-2fad-4012-9e34-3910b461fb6a",
   "metadata": {},
   "outputs": [],
   "source": [
    "vowels = ['a', 'e', 'i', 'o', 'u']"
   ]
  },
  {
   "cell_type": "code",
   "execution_count": 40,
   "id": "0ca2e088-06ba-48c6-bb39-4dd3f0f9125c",
   "metadata": {},
   "outputs": [],
   "source": [
    "numbers = [1, 2, 43, 34 ,5, 6, 3, -34]\n",
    "numbers.reverse()"
   ]
  },
  {
   "cell_type": "code",
   "execution_count": 41,
   "id": "ddc265b0-8c62-4a39-baa9-1f0dad1335aa",
   "metadata": {},
   "outputs": [
    {
     "data": {
      "text/plain": [
       "[-34, 3, 6, 5, 34, 43, 2, 1]"
      ]
     },
     "execution_count": 41,
     "metadata": {},
     "output_type": "execute_result"
    }
   ],
   "source": [
    "numbers"
   ]
  },
  {
   "cell_type": "code",
   "execution_count": 42,
   "id": "4e8faed9-950b-4bb2-bb9f-1d33ef1def59",
   "metadata": {},
   "outputs": [],
   "source": [
    "numbers.sort()"
   ]
  },
  {
   "cell_type": "code",
   "execution_count": 43,
   "id": "ec0c9779-583d-45bd-b092-cf2d6be4b834",
   "metadata": {},
   "outputs": [
    {
     "data": {
      "text/plain": [
       "[-34, 1, 2, 3, 5, 6, 34, 43]"
      ]
     },
     "execution_count": 43,
     "metadata": {},
     "output_type": "execute_result"
    }
   ],
   "source": [
    "numbers"
   ]
  },
  {
   "cell_type": "code",
   "execution_count": 44,
   "id": "41c83b73-34c2-46f3-9754-ee844611ced7",
   "metadata": {},
   "outputs": [],
   "source": [
    "numbers.sort(reverse = True)"
   ]
  },
  {
   "cell_type": "code",
   "execution_count": 45,
   "id": "21af7337-ce98-4ee7-8a86-b14bf83cd9e3",
   "metadata": {},
   "outputs": [
    {
     "data": {
      "text/plain": [
       "[43, 34, 6, 5, 3, 2, 1, -34]"
      ]
     },
     "execution_count": 45,
     "metadata": {},
     "output_type": "execute_result"
    }
   ],
   "source": [
    "numbers"
   ]
  },
  {
   "cell_type": "code",
   "execution_count": null,
   "id": "c9f44e4e-7db1-4f93-b500-e57228dbf50f",
   "metadata": {},
   "outputs": [],
   "source": []
  }
 ],
 "metadata": {
  "kernelspec": {
   "display_name": "Python 3",
   "language": "python",
   "name": "python3"
  },
  "language_info": {
   "codemirror_mode": {
    "name": "ipython",
    "version": 3
   },
   "file_extension": ".py",
   "mimetype": "text/x-python",
   "name": "python",
   "nbconvert_exporter": "python",
   "pygments_lexer": "ipython3",
   "version": "3.8.8"
  }
 },
 "nbformat": 4,
 "nbformat_minor": 5
}
